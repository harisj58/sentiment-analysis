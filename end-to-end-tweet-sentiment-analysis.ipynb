{
 "cells": [
  {
   "cell_type": "markdown",
   "id": "48313cd3",
   "metadata": {},
   "source": [
    "# End-to-End Tweet Sentiment Analysis"
   ]
  },
  {
   "cell_type": "markdown",
   "id": "d97c9685",
   "metadata": {},
   "source": [
    "The notebook walks us through the step-by-step process of performing sentiment analysis using Python.\n",
    "\n",
    "The Twitter Data contains the following 4 fields:\n",
    "1. __textID -__ unique ID for each piece of text\n",
    "2. __text -__ the text of the tweet\n",
    "3. __sentiment -__ the general sentiment of the tweet (negative, neutral, positive)\n",
    "4. __selected_text -__ [train only] the text that supports the tweet's sentiment"
   ]
  },
  {
   "cell_type": "markdown",
   "id": "dd51dc89",
   "metadata": {},
   "source": [
    "## Step 1: Importing Libraries"
   ]
  },
  {
   "cell_type": "code",
   "execution_count": 1,
   "id": "322a5fdc",
   "metadata": {},
   "outputs": [],
   "source": [
    "# data manipulation\n",
    "import pandas as pd\n",
    "import numpy as np\n",
    "import re\n",
    "import string\n",
    "\n",
    "# methods and stopwords text preprocessing\n",
    "from nltk.corpus import stopwords\n",
    "from nltk.tokenize import word_tokenize\n",
    "from nltk.stem import PorterStemmer, WordNetLemmatizer\n",
    "from sklearn.feature_extraction.text import TfidfVectorizer, CountVectorizer\n",
    "from sklearn.model_selection import train_test_split\n",
    "\n",
    "# machine learning libraries\n",
    "from sklearn.metrics import accuracy_score, confusion_matrix\n",
    "from sklearn.naive_bayes import MultinomialNB\n",
    "from sklearn.linear_model import LogisticRegression\n",
    "from sklearn.ensemble import RandomForestClassifier\n",
    "from sklearn.svm import SVC\n",
    "\n",
    "# visualization\n",
    "import matplotlib.pyplot as plt"
   ]
  },
  {
   "cell_type": "code",
   "execution_count": 2,
   "id": "1323e9ba",
   "metadata": {},
   "outputs": [
    {
     "data": {
      "application/javascript": [
       "if (!(\"Notification\" in window)) {\n",
       "    alert(\"This browser does not support desktop notifications, so the %%notify magic will not work.\");\n",
       "} else if (Notification.permission !== 'granted' && Notification.permission !== 'denied') {\n",
       "    Notification.requestPermission(function (permission) {\n",
       "        if(!('permission' in Notification)) {\n",
       "            Notification.permission = permission;\n",
       "        }\n",
       "    })\n",
       "}\n"
      ],
      "text/plain": [
       "<IPython.core.display.Javascript object>"
      ]
     },
     "metadata": {},
     "output_type": "display_data"
    }
   ],
   "source": [
    "%load_ext jupyternotify"
   ]
  },
  {
   "cell_type": "markdown",
   "id": "ae8ef321",
   "metadata": {},
   "source": [
    "English Stopwords"
   ]
  },
  {
   "cell_type": "code",
   "execution_count": 3,
   "id": "656eae6f",
   "metadata": {},
   "outputs": [
    {
     "name": "stderr",
     "output_type": "stream",
     "text": [
      "[nltk_data] Downloading package stopwords to\n",
      "[nltk_data]     C:\\Users\\basit\\AppData\\Roaming\\nltk_data...\n",
      "[nltk_data]   Package stopwords is already up-to-date!\n"
     ]
    }
   ],
   "source": [
    "# creating a stopwords set\n",
    "import nltk\n",
    "nltk.download('stopwords')\n",
    "stop_words = set(stopwords.words('english'))"
   ]
  },
  {
   "cell_type": "markdown",
   "id": "098ec028",
   "metadata": {},
   "source": [
    "## Step 2: Preprocessing the Tweet Text\n",
    "\n",
    "We shall perform the following transformations on the raw tweets:\n",
    "1. Casing\n",
    "2. Noise Removal\n",
    "3. Tokenization\n",
    "4. Stopword Removal\n",
    "5. Text Normalization (Stemming and Lemmatization)"
   ]
  },
  {
   "cell_type": "code",
   "execution_count": 4,
   "id": "79b28de6",
   "metadata": {},
   "outputs": [],
   "source": [
    "def preprocess_tweet(tweet):\n",
    "    \"\"\"\n",
    "    Runs a set of transformational steps to\n",
    "    preprocess the text of the tweet.\n",
    "    \"\"\"\n",
    "    # convert all text to lower case\n",
    "    tweet = tweet.lower()\n",
    "\n",
    "    # remove any urls\n",
    "    tweet  = re.sub(r'http\\S+|www\\S+|https\\S+', \"\", tweet, flags=re.MULTILINE)\n",
    "    \n",
    "    # replace '****' with 'curse'\n",
    "    tweet = re.sub(r'\\*\\*\\*\\*', \"gaali\", tweet)\n",
    "\n",
    "    # remove punctuations\n",
    "    tweet = tweet.translate(str.maketrans(\"\", \"\", string.punctuation))\n",
    "\n",
    "    # remove user @ references and hashtags\n",
    "    tweet = re.sub(r'\\@\\w+|\\#', \"\", tweet)\n",
    "    \n",
    "    # remove useless characters\n",
    "    tweet = re.sub(r'[^ -~]', '', tweet)\n",
    "\n",
    "    # remove stopwords\n",
    "    tweet_tokens = word_tokenize(tweet)\n",
    "    filtered_words = [word for word in tweet_tokens if word not in stop_words]\n",
    "\n",
    "    # stemming\n",
    "    ps = PorterStemmer()\n",
    "    stemmed_words = [ps.stem(w) for w in filtered_words]\n",
    "\n",
    "    # lemmatizing\n",
    "    lemmatizer = WordNetLemmatizer()\n",
    "    lemma_words = [lemmatizer.lemmatize(w, pos='a') for w in stemmed_words]\n",
    "\n",
    "    return ' '.join(lemma_words)"
   ]
  },
  {
   "cell_type": "code",
   "execution_count": 5,
   "id": "de15a710",
   "metadata": {},
   "outputs": [
    {
     "name": "stderr",
     "output_type": "stream",
     "text": [
      "[nltk_data] Downloading package punkt to\n",
      "[nltk_data]     C:\\Users\\basit\\AppData\\Roaming\\nltk_data...\n",
      "[nltk_data]   Package punkt is already up-to-date!\n",
      "[nltk_data] Downloading package wordnet to\n",
      "[nltk_data]     C:\\Users\\basit\\AppData\\Roaming\\nltk_data...\n",
      "[nltk_data]   Package wordnet is already up-to-date!\n",
      "[nltk_data] Downloading package omw-1.4 to\n",
      "[nltk_data]     C:\\Users\\basit\\AppData\\Roaming\\nltk_data...\n",
      "[nltk_data]   Package omw-1.4 is already up-to-date!\n"
     ]
    },
    {
     "data": {
      "text/plain": [
       "True"
      ]
     },
     "execution_count": 5,
     "metadata": {},
     "output_type": "execute_result"
    }
   ],
   "source": [
    "# downloading the additional resources required by nltk\n",
    "nltk.download('punkt')\n",
    "nltk.download('wordnet')\n",
    "nltk.download('omw-1.4')"
   ]
  },
  {
   "cell_type": "code",
   "execution_count": 6,
   "id": "3077d3ed",
   "metadata": {},
   "outputs": [
    {
     "name": "stdout",
     "output_type": "stream",
     "text": [
      "hi hari jave\n"
     ]
    }
   ],
   "source": [
    "# an example of the preprocessing\n",
    "print(preprocess_tweet(\"Hi I am Haris Javed\"))"
   ]
  },
  {
   "cell_type": "code",
   "execution_count": 7,
   "id": "8a7b5df2",
   "metadata": {},
   "outputs": [],
   "source": [
    "# Loading the tweets dataset\n",
    "tweets_ds = pd.read_csv('data/train.csv')\n",
    "tweets_ds_test = pd.read_csv('data/test.csv')"
   ]
  },
  {
   "cell_type": "code",
   "execution_count": 8,
   "id": "014783e0",
   "metadata": {},
   "outputs": [
    {
     "data": {
      "text/html": [
       "<div>\n",
       "<style scoped>\n",
       "    .dataframe tbody tr th:only-of-type {\n",
       "        vertical-align: middle;\n",
       "    }\n",
       "\n",
       "    .dataframe tbody tr th {\n",
       "        vertical-align: top;\n",
       "    }\n",
       "\n",
       "    .dataframe thead th {\n",
       "        text-align: right;\n",
       "    }\n",
       "</style>\n",
       "<table border=\"1\" class=\"dataframe\">\n",
       "  <thead>\n",
       "    <tr style=\"text-align: right;\">\n",
       "      <th></th>\n",
       "      <th>textID</th>\n",
       "      <th>text</th>\n",
       "      <th>selected_text</th>\n",
       "      <th>sentiment</th>\n",
       "    </tr>\n",
       "  </thead>\n",
       "  <tbody>\n",
       "    <tr>\n",
       "      <th>0</th>\n",
       "      <td>cb774db0d1</td>\n",
       "      <td>I`d have responded, if I were going</td>\n",
       "      <td>I`d have responded, if I were going</td>\n",
       "      <td>neutral</td>\n",
       "    </tr>\n",
       "    <tr>\n",
       "      <th>1</th>\n",
       "      <td>549e992a42</td>\n",
       "      <td>Sooo SAD I will miss you here in San Diego!!!</td>\n",
       "      <td>Sooo SAD</td>\n",
       "      <td>negative</td>\n",
       "    </tr>\n",
       "    <tr>\n",
       "      <th>2</th>\n",
       "      <td>088c60f138</td>\n",
       "      <td>my boss is bullying me...</td>\n",
       "      <td>bullying me</td>\n",
       "      <td>negative</td>\n",
       "    </tr>\n",
       "    <tr>\n",
       "      <th>3</th>\n",
       "      <td>9642c003ef</td>\n",
       "      <td>what interview! leave me alone</td>\n",
       "      <td>leave me alone</td>\n",
       "      <td>negative</td>\n",
       "    </tr>\n",
       "    <tr>\n",
       "      <th>4</th>\n",
       "      <td>358bd9e861</td>\n",
       "      <td>Sons of ****, why couldn`t they put them on t...</td>\n",
       "      <td>Sons of ****,</td>\n",
       "      <td>negative</td>\n",
       "    </tr>\n",
       "    <tr>\n",
       "      <th>...</th>\n",
       "      <td>...</td>\n",
       "      <td>...</td>\n",
       "      <td>...</td>\n",
       "      <td>...</td>\n",
       "    </tr>\n",
       "    <tr>\n",
       "      <th>27476</th>\n",
       "      <td>4eac33d1c0</td>\n",
       "      <td>wish we could come see u on Denver  husband l...</td>\n",
       "      <td>d lost</td>\n",
       "      <td>negative</td>\n",
       "    </tr>\n",
       "    <tr>\n",
       "      <th>27477</th>\n",
       "      <td>4f4c4fc327</td>\n",
       "      <td>I`ve wondered about rake to.  The client has ...</td>\n",
       "      <td>, don`t force</td>\n",
       "      <td>negative</td>\n",
       "    </tr>\n",
       "    <tr>\n",
       "      <th>27478</th>\n",
       "      <td>f67aae2310</td>\n",
       "      <td>Yay good for both of you. Enjoy the break - y...</td>\n",
       "      <td>Yay good for both of you.</td>\n",
       "      <td>positive</td>\n",
       "    </tr>\n",
       "    <tr>\n",
       "      <th>27479</th>\n",
       "      <td>ed167662a5</td>\n",
       "      <td>But it was worth it  ****.</td>\n",
       "      <td>But it was worth it  ****.</td>\n",
       "      <td>positive</td>\n",
       "    </tr>\n",
       "    <tr>\n",
       "      <th>27480</th>\n",
       "      <td>6f7127d9d7</td>\n",
       "      <td>All this flirting going on - The ATG smiles...</td>\n",
       "      <td>All this flirting going on - The ATG smiles. Y...</td>\n",
       "      <td>neutral</td>\n",
       "    </tr>\n",
       "  </tbody>\n",
       "</table>\n",
       "<p>27481 rows × 4 columns</p>\n",
       "</div>"
      ],
      "text/plain": [
       "           textID                                               text  \\\n",
       "0      cb774db0d1                I`d have responded, if I were going   \n",
       "1      549e992a42      Sooo SAD I will miss you here in San Diego!!!   \n",
       "2      088c60f138                          my boss is bullying me...   \n",
       "3      9642c003ef                     what interview! leave me alone   \n",
       "4      358bd9e861   Sons of ****, why couldn`t they put them on t...   \n",
       "...           ...                                                ...   \n",
       "27476  4eac33d1c0   wish we could come see u on Denver  husband l...   \n",
       "27477  4f4c4fc327   I`ve wondered about rake to.  The client has ...   \n",
       "27478  f67aae2310   Yay good for both of you. Enjoy the break - y...   \n",
       "27479  ed167662a5                         But it was worth it  ****.   \n",
       "27480  6f7127d9d7     All this flirting going on - The ATG smiles...   \n",
       "\n",
       "                                           selected_text sentiment  \n",
       "0                    I`d have responded, if I were going   neutral  \n",
       "1                                               Sooo SAD  negative  \n",
       "2                                            bullying me  negative  \n",
       "3                                         leave me alone  negative  \n",
       "4                                          Sons of ****,  negative  \n",
       "...                                                  ...       ...  \n",
       "27476                                             d lost  negative  \n",
       "27477                                      , don`t force  negative  \n",
       "27478                          Yay good for both of you.  positive  \n",
       "27479                         But it was worth it  ****.  positive  \n",
       "27480  All this flirting going on - The ATG smiles. Y...   neutral  \n",
       "\n",
       "[27481 rows x 4 columns]"
      ]
     },
     "execution_count": 8,
     "metadata": {},
     "output_type": "execute_result"
    }
   ],
   "source": [
    "# viewing the dataset head\n",
    "tweets_ds"
   ]
  },
  {
   "cell_type": "code",
   "execution_count": 9,
   "id": "a18ea5f1",
   "metadata": {},
   "outputs": [
    {
     "data": {
      "text/html": [
       "<div>\n",
       "<style scoped>\n",
       "    .dataframe tbody tr th:only-of-type {\n",
       "        vertical-align: middle;\n",
       "    }\n",
       "\n",
       "    .dataframe tbody tr th {\n",
       "        vertical-align: top;\n",
       "    }\n",
       "\n",
       "    .dataframe thead th {\n",
       "        text-align: right;\n",
       "    }\n",
       "</style>\n",
       "<table border=\"1\" class=\"dataframe\">\n",
       "  <thead>\n",
       "    <tr style=\"text-align: right;\">\n",
       "      <th></th>\n",
       "      <th>textID</th>\n",
       "      <th>text</th>\n",
       "      <th>selected_text</th>\n",
       "      <th>sentiment</th>\n",
       "    </tr>\n",
       "  </thead>\n",
       "  <tbody>\n",
       "    <tr>\n",
       "      <th>0</th>\n",
       "      <td>cb774db0d1</td>\n",
       "      <td>I`d have responded, if I were going</td>\n",
       "      <td>I`d have responded, if I were going</td>\n",
       "      <td>neutral</td>\n",
       "    </tr>\n",
       "    <tr>\n",
       "      <th>1</th>\n",
       "      <td>549e992a42</td>\n",
       "      <td>Sooo SAD I will miss you here in San Diego!!!</td>\n",
       "      <td>Sooo SAD</td>\n",
       "      <td>negative</td>\n",
       "    </tr>\n",
       "    <tr>\n",
       "      <th>2</th>\n",
       "      <td>088c60f138</td>\n",
       "      <td>my boss is bullying me...</td>\n",
       "      <td>bullying me</td>\n",
       "      <td>negative</td>\n",
       "    </tr>\n",
       "    <tr>\n",
       "      <th>3</th>\n",
       "      <td>9642c003ef</td>\n",
       "      <td>what interview! leave me alone</td>\n",
       "      <td>leave me alone</td>\n",
       "      <td>negative</td>\n",
       "    </tr>\n",
       "    <tr>\n",
       "      <th>4</th>\n",
       "      <td>358bd9e861</td>\n",
       "      <td>Sons of ****, why couldn`t they put them on t...</td>\n",
       "      <td>Sons of ****,</td>\n",
       "      <td>negative</td>\n",
       "    </tr>\n",
       "    <tr>\n",
       "      <th>...</th>\n",
       "      <td>...</td>\n",
       "      <td>...</td>\n",
       "      <td>...</td>\n",
       "      <td>...</td>\n",
       "    </tr>\n",
       "    <tr>\n",
       "      <th>310</th>\n",
       "      <td>5b578d0b4c</td>\n",
       "      <td>Just opened a facebook account, I`m a little c...</td>\n",
       "      <td>better</td>\n",
       "      <td>positive</td>\n",
       "    </tr>\n",
       "    <tr>\n",
       "      <th>311</th>\n",
       "      <td>c4ab28566e</td>\n",
       "      <td>Ship. I`m stuck.</td>\n",
       "      <td>Ship. I`m stuck.</td>\n",
       "      <td>negative</td>\n",
       "    </tr>\n",
       "    <tr>\n",
       "      <th>312</th>\n",
       "      <td>162a2510d2</td>\n",
       "      <td>DUSTBIN BABY ON AT 11.30 Cannot wait  x</td>\n",
       "      <td>Cannot wait</td>\n",
       "      <td>positive</td>\n",
       "    </tr>\n",
       "    <tr>\n",
       "      <th>313</th>\n",
       "      <td>c25871ec9e</td>\n",
       "      <td>Not going to dwell on it. It happened, it`s p...</td>\n",
       "      <td>shame</td>\n",
       "      <td>negative</td>\n",
       "    </tr>\n",
       "    <tr>\n",
       "      <th>314</th>\n",
       "      <td>ddd4dd7be4</td>\n",
       "      <td>It looks like the office TV DOES get MLB Netwo...</td>\n",
       "      <td>It looks like the office TV DOES get MLB Netwo...</td>\n",
       "      <td>neutral</td>\n",
       "    </tr>\n",
       "  </tbody>\n",
       "</table>\n",
       "<p>315 rows × 4 columns</p>\n",
       "</div>"
      ],
      "text/plain": [
       "         textID                                               text  \\\n",
       "0    cb774db0d1                I`d have responded, if I were going   \n",
       "1    549e992a42      Sooo SAD I will miss you here in San Diego!!!   \n",
       "2    088c60f138                          my boss is bullying me...   \n",
       "3    9642c003ef                     what interview! leave me alone   \n",
       "4    358bd9e861   Sons of ****, why couldn`t they put them on t...   \n",
       "..          ...                                                ...   \n",
       "310  5b578d0b4c  Just opened a facebook account, I`m a little c...   \n",
       "311  c4ab28566e                                   Ship. I`m stuck.   \n",
       "312  162a2510d2            DUSTBIN BABY ON AT 11.30 Cannot wait  x   \n",
       "313  c25871ec9e   Not going to dwell on it. It happened, it`s p...   \n",
       "314  ddd4dd7be4  It looks like the office TV DOES get MLB Netwo...   \n",
       "\n",
       "                                         selected_text sentiment  \n",
       "0                  I`d have responded, if I were going   neutral  \n",
       "1                                             Sooo SAD  negative  \n",
       "2                                          bullying me  negative  \n",
       "3                                       leave me alone  negative  \n",
       "4                                        Sons of ****,  negative  \n",
       "..                                                 ...       ...  \n",
       "310                                             better  positive  \n",
       "311                                   Ship. I`m stuck.  negative  \n",
       "312                                        Cannot wait  positive  \n",
       "313                                              shame  negative  \n",
       "314  It looks like the office TV DOES get MLB Netwo...   neutral  \n",
       "\n",
       "[315 rows x 4 columns]"
      ]
     },
     "execution_count": 9,
     "metadata": {},
     "output_type": "execute_result"
    }
   ],
   "source": [
    "# removing the records with null values\n",
    "tweets_ds = tweets_ds.dropna(axis=0)\n",
    "tweets_ds.reset_index(drop=True, inplace=True)\n",
    "tweets_ds[:315]"
   ]
  },
  {
   "cell_type": "code",
   "execution_count": 10,
   "id": "25b2ab16",
   "metadata": {},
   "outputs": [],
   "source": [
    "# preprocessing the tweets in the dataset\n",
    "protw = [] # stores the processed tweet of each record\n",
    "for i in range(0, len(tweets_ds)):\n",
    "    protw.append(preprocess_tweet(tweets_ds.text[i]))"
   ]
  },
  {
   "cell_type": "code",
   "execution_count": 11,
   "id": "8fa18400",
   "metadata": {},
   "outputs": [
    {
     "name": "stderr",
     "output_type": "stream",
     "text": [
      "C:\\Users\\basit\\AppData\\Local\\Temp\\ipykernel_22020\\2389535132.py:2: SettingWithCopyWarning: \n",
      "A value is trying to be set on a copy of a slice from a DataFrame.\n",
      "Try using .loc[row_indexer,col_indexer] = value instead\n",
      "\n",
      "See the caveats in the documentation: https://pandas.pydata.org/pandas-docs/stable/user_guide/indexing.html#returning-a-view-versus-a-copy\n",
      "  tweets_ds['processed_tweet'] = protw\n"
     ]
    },
    {
     "data": {
      "text/html": [
       "<div>\n",
       "<style scoped>\n",
       "    .dataframe tbody tr th:only-of-type {\n",
       "        vertical-align: middle;\n",
       "    }\n",
       "\n",
       "    .dataframe tbody tr th {\n",
       "        vertical-align: top;\n",
       "    }\n",
       "\n",
       "    .dataframe thead th {\n",
       "        text-align: right;\n",
       "    }\n",
       "</style>\n",
       "<table border=\"1\" class=\"dataframe\">\n",
       "  <thead>\n",
       "    <tr style=\"text-align: right;\">\n",
       "      <th></th>\n",
       "      <th>textID</th>\n",
       "      <th>text</th>\n",
       "      <th>selected_text</th>\n",
       "      <th>sentiment</th>\n",
       "      <th>processed_tweet</th>\n",
       "    </tr>\n",
       "  </thead>\n",
       "  <tbody>\n",
       "    <tr>\n",
       "      <th>0</th>\n",
       "      <td>cb774db0d1</td>\n",
       "      <td>I`d have responded, if I were going</td>\n",
       "      <td>I`d have responded, if I were going</td>\n",
       "      <td>neutral</td>\n",
       "      <td>id respond go</td>\n",
       "    </tr>\n",
       "    <tr>\n",
       "      <th>1</th>\n",
       "      <td>549e992a42</td>\n",
       "      <td>Sooo SAD I will miss you here in San Diego!!!</td>\n",
       "      <td>Sooo SAD</td>\n",
       "      <td>negative</td>\n",
       "      <td>sooo sad miss san diego</td>\n",
       "    </tr>\n",
       "    <tr>\n",
       "      <th>2</th>\n",
       "      <td>088c60f138</td>\n",
       "      <td>my boss is bullying me...</td>\n",
       "      <td>bullying me</td>\n",
       "      <td>negative</td>\n",
       "      <td>boss bulli</td>\n",
       "    </tr>\n",
       "    <tr>\n",
       "      <th>3</th>\n",
       "      <td>9642c003ef</td>\n",
       "      <td>what interview! leave me alone</td>\n",
       "      <td>leave me alone</td>\n",
       "      <td>negative</td>\n",
       "      <td>interview leav alon</td>\n",
       "    </tr>\n",
       "    <tr>\n",
       "      <th>4</th>\n",
       "      <td>358bd9e861</td>\n",
       "      <td>Sons of ****, why couldn`t they put them on t...</td>\n",
       "      <td>Sons of ****,</td>\n",
       "      <td>negative</td>\n",
       "      <td>son gaali couldnt put releas alreadi bought</td>\n",
       "    </tr>\n",
       "    <tr>\n",
       "      <th>...</th>\n",
       "      <td>...</td>\n",
       "      <td>...</td>\n",
       "      <td>...</td>\n",
       "      <td>...</td>\n",
       "      <td>...</td>\n",
       "    </tr>\n",
       "    <tr>\n",
       "      <th>27475</th>\n",
       "      <td>4eac33d1c0</td>\n",
       "      <td>wish we could come see u on Denver  husband l...</td>\n",
       "      <td>d lost</td>\n",
       "      <td>negative</td>\n",
       "      <td>wish could come see u denver husband lost job ...</td>\n",
       "    </tr>\n",
       "    <tr>\n",
       "      <th>27476</th>\n",
       "      <td>4f4c4fc327</td>\n",
       "      <td>I`ve wondered about rake to.  The client has ...</td>\n",
       "      <td>, don`t force</td>\n",
       "      <td>negative</td>\n",
       "      <td>ive wonder rake client made clear net dont for...</td>\n",
       "    </tr>\n",
       "    <tr>\n",
       "      <th>27477</th>\n",
       "      <td>f67aae2310</td>\n",
       "      <td>Yay good for both of you. Enjoy the break - y...</td>\n",
       "      <td>Yay good for both of you.</td>\n",
       "      <td>positive</td>\n",
       "      <td>yay good enjoy break probabl need hectic weeke...</td>\n",
       "    </tr>\n",
       "    <tr>\n",
       "      <th>27478</th>\n",
       "      <td>ed167662a5</td>\n",
       "      <td>But it was worth it  ****.</td>\n",
       "      <td>But it was worth it  ****.</td>\n",
       "      <td>positive</td>\n",
       "      <td>worth gaali</td>\n",
       "    </tr>\n",
       "    <tr>\n",
       "      <th>27479</th>\n",
       "      <td>6f7127d9d7</td>\n",
       "      <td>All this flirting going on - The ATG smiles...</td>\n",
       "      <td>All this flirting going on - The ATG smiles. Y...</td>\n",
       "      <td>neutral</td>\n",
       "      <td>flirt go atg smile yay hug</td>\n",
       "    </tr>\n",
       "  </tbody>\n",
       "</table>\n",
       "<p>27480 rows × 5 columns</p>\n",
       "</div>"
      ],
      "text/plain": [
       "           textID                                               text  \\\n",
       "0      cb774db0d1                I`d have responded, if I were going   \n",
       "1      549e992a42      Sooo SAD I will miss you here in San Diego!!!   \n",
       "2      088c60f138                          my boss is bullying me...   \n",
       "3      9642c003ef                     what interview! leave me alone   \n",
       "4      358bd9e861   Sons of ****, why couldn`t they put them on t...   \n",
       "...           ...                                                ...   \n",
       "27475  4eac33d1c0   wish we could come see u on Denver  husband l...   \n",
       "27476  4f4c4fc327   I`ve wondered about rake to.  The client has ...   \n",
       "27477  f67aae2310   Yay good for both of you. Enjoy the break - y...   \n",
       "27478  ed167662a5                         But it was worth it  ****.   \n",
       "27479  6f7127d9d7     All this flirting going on - The ATG smiles...   \n",
       "\n",
       "                                           selected_text sentiment  \\\n",
       "0                    I`d have responded, if I were going   neutral   \n",
       "1                                               Sooo SAD  negative   \n",
       "2                                            bullying me  negative   \n",
       "3                                         leave me alone  negative   \n",
       "4                                          Sons of ****,  negative   \n",
       "...                                                  ...       ...   \n",
       "27475                                             d lost  negative   \n",
       "27476                                      , don`t force  negative   \n",
       "27477                          Yay good for both of you.  positive   \n",
       "27478                         But it was worth it  ****.  positive   \n",
       "27479  All this flirting going on - The ATG smiles. Y...   neutral   \n",
       "\n",
       "                                         processed_tweet  \n",
       "0                                          id respond go  \n",
       "1                                sooo sad miss san diego  \n",
       "2                                             boss bulli  \n",
       "3                                    interview leav alon  \n",
       "4            son gaali couldnt put releas alreadi bought  \n",
       "...                                                  ...  \n",
       "27475  wish could come see u denver husband lost job ...  \n",
       "27476  ive wonder rake client made clear net dont for...  \n",
       "27477  yay good enjoy break probabl need hectic weeke...  \n",
       "27478                                        worth gaali  \n",
       "27479                         flirt go atg smile yay hug  \n",
       "\n",
       "[27480 rows x 5 columns]"
      ]
     },
     "execution_count": 11,
     "metadata": {},
     "output_type": "execute_result"
    }
   ],
   "source": [
    "# adding a new column which holds the processed tweet for each record\n",
    "tweets_ds['processed_tweet'] = protw\n",
    "tweets_ds"
   ]
  },
  {
   "cell_type": "code",
   "execution_count": 12,
   "id": "6e069da2",
   "metadata": {},
   "outputs": [],
   "source": [
    "# preprocessing the tweets in the dataset\n",
    "protw = [] # stores the processed tweet of each record\n",
    "for i in range(0, len(tweets_ds_test)):\n",
    "    protw.append(preprocess_tweet(tweets_ds_test.text[i]))"
   ]
  },
  {
   "cell_type": "code",
   "execution_count": 13,
   "id": "b0edf1ea",
   "metadata": {},
   "outputs": [
    {
     "data": {
      "text/html": [
       "<div>\n",
       "<style scoped>\n",
       "    .dataframe tbody tr th:only-of-type {\n",
       "        vertical-align: middle;\n",
       "    }\n",
       "\n",
       "    .dataframe tbody tr th {\n",
       "        vertical-align: top;\n",
       "    }\n",
       "\n",
       "    .dataframe thead th {\n",
       "        text-align: right;\n",
       "    }\n",
       "</style>\n",
       "<table border=\"1\" class=\"dataframe\">\n",
       "  <thead>\n",
       "    <tr style=\"text-align: right;\">\n",
       "      <th></th>\n",
       "      <th>textID</th>\n",
       "      <th>text</th>\n",
       "      <th>sentiment</th>\n",
       "      <th>processed_tweet</th>\n",
       "    </tr>\n",
       "  </thead>\n",
       "  <tbody>\n",
       "    <tr>\n",
       "      <th>0</th>\n",
       "      <td>f87dea47db</td>\n",
       "      <td>Last session of the day  http://twitpic.com/67ezh</td>\n",
       "      <td>neutral</td>\n",
       "      <td>last session day</td>\n",
       "    </tr>\n",
       "    <tr>\n",
       "      <th>1</th>\n",
       "      <td>96d74cb729</td>\n",
       "      <td>Shanghai is also really exciting (precisely -...</td>\n",
       "      <td>positive</td>\n",
       "      <td>shanghai also realli excit precis skyscrap gal...</td>\n",
       "    </tr>\n",
       "    <tr>\n",
       "      <th>2</th>\n",
       "      <td>eee518ae67</td>\n",
       "      <td>Recession hit Veronique Branquinho, she has to...</td>\n",
       "      <td>negative</td>\n",
       "      <td>recess hit veroniqu branquinho quit compani shame</td>\n",
       "    </tr>\n",
       "    <tr>\n",
       "      <th>3</th>\n",
       "      <td>01082688c6</td>\n",
       "      <td>happy bday!</td>\n",
       "      <td>positive</td>\n",
       "      <td>happi bday</td>\n",
       "    </tr>\n",
       "    <tr>\n",
       "      <th>4</th>\n",
       "      <td>33987a8ee5</td>\n",
       "      <td>http://twitpic.com/4w75p - I like it!!</td>\n",
       "      <td>positive</td>\n",
       "      <td>like</td>\n",
       "    </tr>\n",
       "    <tr>\n",
       "      <th>...</th>\n",
       "      <td>...</td>\n",
       "      <td>...</td>\n",
       "      <td>...</td>\n",
       "      <td>...</td>\n",
       "    </tr>\n",
       "    <tr>\n",
       "      <th>3529</th>\n",
       "      <td>e5f0e6ef4b</td>\n",
       "      <td>its at 3 am, im very tired but i can`t sleep  ...</td>\n",
       "      <td>negative</td>\n",
       "      <td>3 im tire cant sleep tri</td>\n",
       "    </tr>\n",
       "    <tr>\n",
       "      <th>3530</th>\n",
       "      <td>416863ce47</td>\n",
       "      <td>All alone in this old house again.  Thanks for...</td>\n",
       "      <td>positive</td>\n",
       "      <td>alon old hous thank net keep aliv kick whoever...</td>\n",
       "    </tr>\n",
       "    <tr>\n",
       "      <th>3531</th>\n",
       "      <td>6332da480c</td>\n",
       "      <td>I know what you mean. My little dog is sinkin...</td>\n",
       "      <td>negative</td>\n",
       "      <td>know mean littl dog sink depress want move som...</td>\n",
       "    </tr>\n",
       "    <tr>\n",
       "      <th>3532</th>\n",
       "      <td>df1baec676</td>\n",
       "      <td>_sutra what is your next youtube video gonna b...</td>\n",
       "      <td>positive</td>\n",
       "      <td>sutra next youtub video gon na love video</td>\n",
       "    </tr>\n",
       "    <tr>\n",
       "      <th>3533</th>\n",
       "      <td>469e15c5a8</td>\n",
       "      <td>http://twitpic.com/4woj2 - omgssh  ang cute n...</td>\n",
       "      <td>positive</td>\n",
       "      <td>omgssh ang cute ng bbi</td>\n",
       "    </tr>\n",
       "  </tbody>\n",
       "</table>\n",
       "<p>3534 rows × 4 columns</p>\n",
       "</div>"
      ],
      "text/plain": [
       "          textID                                               text sentiment  \\\n",
       "0     f87dea47db  Last session of the day  http://twitpic.com/67ezh   neutral   \n",
       "1     96d74cb729   Shanghai is also really exciting (precisely -...  positive   \n",
       "2     eee518ae67  Recession hit Veronique Branquinho, she has to...  negative   \n",
       "3     01082688c6                                        happy bday!  positive   \n",
       "4     33987a8ee5             http://twitpic.com/4w75p - I like it!!  positive   \n",
       "...          ...                                                ...       ...   \n",
       "3529  e5f0e6ef4b  its at 3 am, im very tired but i can`t sleep  ...  negative   \n",
       "3530  416863ce47  All alone in this old house again.  Thanks for...  positive   \n",
       "3531  6332da480c   I know what you mean. My little dog is sinkin...  negative   \n",
       "3532  df1baec676  _sutra what is your next youtube video gonna b...  positive   \n",
       "3533  469e15c5a8   http://twitpic.com/4woj2 - omgssh  ang cute n...  positive   \n",
       "\n",
       "                                        processed_tweet  \n",
       "0                                      last session day  \n",
       "1     shanghai also realli excit precis skyscrap gal...  \n",
       "2     recess hit veroniqu branquinho quit compani shame  \n",
       "3                                            happi bday  \n",
       "4                                                  like  \n",
       "...                                                 ...  \n",
       "3529                           3 im tire cant sleep tri  \n",
       "3530  alon old hous thank net keep aliv kick whoever...  \n",
       "3531  know mean littl dog sink depress want move som...  \n",
       "3532          sutra next youtub video gon na love video  \n",
       "3533                             omgssh ang cute ng bbi  \n",
       "\n",
       "[3534 rows x 4 columns]"
      ]
     },
     "execution_count": 13,
     "metadata": {},
     "output_type": "execute_result"
    }
   ],
   "source": [
    "# adding a new column which holds the processed tweet for each record\n",
    "tweets_ds_test['processed_tweet'] = protw\n",
    "tweets_ds_test"
   ]
  },
  {
   "cell_type": "markdown",
   "id": "90c8d26c",
   "metadata": {},
   "source": [
    "## Step 3: Modelling"
   ]
  },
  {
   "cell_type": "markdown",
   "id": "45f5c91d",
   "metadata": {},
   "source": [
    "Splitting the dataset into training and testing datasets"
   ]
  },
  {
   "cell_type": "code",
   "execution_count": 14,
   "id": "eccb668e",
   "metadata": {},
   "outputs": [],
   "source": [
    "X = tweets_ds.drop('sentiment', axis=1)\n",
    "y_train = tweets_ds.sentiment"
   ]
  },
  {
   "cell_type": "code",
   "execution_count": 15,
   "id": "820304c4",
   "metadata": {},
   "outputs": [],
   "source": [
    "y_test = tweets_ds_test.sentiment"
   ]
  },
  {
   "cell_type": "markdown",
   "id": "55c014bb",
   "metadata": {},
   "source": [
    "Vectorizing the tweets"
   ]
  },
  {
   "cell_type": "code",
   "execution_count": 16,
   "id": "3afb6362",
   "metadata": {},
   "outputs": [],
   "source": [
    "# instantiate the vectorizer object\n",
    "tv = CountVectorizer(max_df=0.90, min_df=2, stop_words='english')"
   ]
  },
  {
   "cell_type": "code",
   "execution_count": 17,
   "id": "891c7f9b",
   "metadata": {},
   "outputs": [
    {
     "data": {
      "text/plain": [
       "<27480x7949 sparse matrix of type '<class 'numpy.int64'>'\n",
       "\twith 157112 stored elements in Compressed Sparse Row format>"
      ]
     },
     "execution_count": 17,
     "metadata": {},
     "output_type": "execute_result"
    }
   ],
   "source": [
    "# tweets for training are vectorized first\n",
    "tv.fit(X.processed_tweet)\n",
    "X_train = tv.transform(X.processed_tweet)\n",
    "X_train"
   ]
  },
  {
   "cell_type": "code",
   "execution_count": 18,
   "id": "132b11a6",
   "metadata": {},
   "outputs": [
    {
     "data": {
      "text/plain": [
       "<3534x7949 sparse matrix of type '<class 'numpy.int64'>'\n",
       "\twith 19350 stored elements in Compressed Sparse Row format>"
      ]
     },
     "execution_count": 18,
     "metadata": {},
     "output_type": "execute_result"
    }
   ],
   "source": [
    "# test tweeets are now vectorized\n",
    "X_test = tv.transform(tweets_ds_test.processed_tweet)\n",
    "X_test"
   ]
  },
  {
   "cell_type": "markdown",
   "id": "45680503",
   "metadata": {},
   "source": [
    "Testing different models"
   ]
  },
  {
   "cell_type": "code",
   "execution_count": 19,
   "id": "a28d0e98",
   "metadata": {},
   "outputs": [],
   "source": [
    "# Function to fit and score the models\n",
    "def fit_and_score(models, X_train, X_test, y_train, y_test):\n",
    "    \"\"\"\n",
    "    Fits and evaluates given machine learning models.\n",
    "    models: a dict of different Scikit-Learn machine learning models\n",
    "    X_train: training data (no labels)\n",
    "    X_test: testing data (no labels)\n",
    "    y_train: training labels\n",
    "    y_test: testing labels\n",
    "    \"\"\"\n",
    "    \n",
    "    # Set up random seed\n",
    "    np.random.seed(42)\n",
    "    \n",
    "    # Make a dictionary to keep model scores\n",
    "    model_scores = {}\n",
    "    \n",
    "    # Loop through models\n",
    "    for name, model in models.items():\n",
    "        # Fit the model to the data\n",
    "        model.fit(X_train, y_train)\n",
    "        # Evaluate the model and append its scores to model_scores\n",
    "        model_scores[name] = model.score(X_test, y_test)\n",
    "    return model_scores"
   ]
  },
  {
   "cell_type": "code",
   "execution_count": 20,
   "id": "0a9e2f01",
   "metadata": {},
   "outputs": [],
   "source": [
    "# Putting models in a dictionary\n",
    "models = {'Random Forest Classifier': RandomForestClassifier(),\n",
    "          'Logistic Regression': LogisticRegression(),\n",
    "          'Support Vector Classifier': SVC()}"
   ]
  },
  {
   "cell_type": "code",
   "execution_count": 21,
   "id": "70f93e16",
   "metadata": {},
   "outputs": [
    {
     "name": "stderr",
     "output_type": "stream",
     "text": [
      "D:\\Machine Learning Projects\\tweet_sentiment_analysis\\env\\lib\\site-packages\\sklearn\\linear_model\\_logistic.py:444: ConvergenceWarning: lbfgs failed to converge (status=1):\n",
      "STOP: TOTAL NO. of ITERATIONS REACHED LIMIT.\n",
      "\n",
      "Increase the number of iterations (max_iter) or scale the data as shown in:\n",
      "    https://scikit-learn.org/stable/modules/preprocessing.html\n",
      "Please also refer to the documentation for alternative solver options:\n",
      "    https://scikit-learn.org/stable/modules/linear_model.html#logistic-regression\n",
      "  n_iter_i = _check_optimize_result(\n"
     ]
    },
    {
     "data": {
      "text/plain": [
       "{'Random Forest Classifier': 0.702037351443124,\n",
       " 'Logistic Regression': 0.7040181097906055,\n",
       " 'Support Vector Classifier': 0.7133559705715903}"
      ]
     },
     "execution_count": 21,
     "metadata": {},
     "output_type": "execute_result"
    },
    {
     "data": {
      "application/javascript": [
       "$(document).ready(\n",
       "    function() {\n",
       "        function appendUniqueDiv(){\n",
       "            // append a div with our uuid so we can check that it's already\n",
       "            // been sent and avoid duplicates on page reload\n",
       "            var notifiedDiv = document.createElement(\"div\")\n",
       "            notifiedDiv.id = \"ac6f33de-c2ff-4a29-8779-a231bc373197\"\n",
       "            element.append(notifiedDiv)\n",
       "        }\n",
       "\n",
       "        // only send notifications if the pageload is complete; this will\n",
       "        // help stop extra notifications when a saved notebook is loaded,\n",
       "        // which during testing gives us state \"interactive\", not \"complete\"\n",
       "        if (document.readyState === 'complete') {\n",
       "            // check for the div that signifies that the notification\n",
       "            // was already sent\n",
       "            if (document.getElementById(\"ac6f33de-c2ff-4a29-8779-a231bc373197\") === null) {\n",
       "                var notificationPayload = {\"requireInteraction\": false, \"icon\": \"/static/base/images/favicon.ico\", \"body\": \"Cell execution has finished!\"};\n",
       "                if (Notification.permission !== 'denied') {\n",
       "                    if (Notification.permission !== 'granted') { \n",
       "                        Notification.requestPermission(function (permission) {\n",
       "                            if(!('permission' in Notification)) {\n",
       "                                Notification.permission = permission\n",
       "                            }\n",
       "                        })\n",
       "                    }\n",
       "                    if (Notification.permission === 'granted') {\n",
       "                    var notification = new Notification(\"Jupyter Notebook\", notificationPayload)\n",
       "                    appendUniqueDiv()\n",
       "                    notification.onclick = function () {\n",
       "                        window.focus();\n",
       "                        this.close();\n",
       "                        };\n",
       "                    } \n",
       "                }     \n",
       "            }\n",
       "        }\n",
       "    }\n",
       ")\n"
      ],
      "text/plain": [
       "<IPython.core.display.Javascript object>"
      ]
     },
     "metadata": {},
     "output_type": "display_data"
    }
   ],
   "source": [
    "%%notify\n",
    "# Scoring the models\n",
    "model_scores = fit_and_score(models, X_train, X_test, y_train, y_test)\n",
    "model_scores"
   ]
  },
  {
   "cell_type": "markdown",
   "id": "eb2b44ad",
   "metadata": {},
   "source": [
    "Since `LogisticRegression` turned out to be the model with the best raw score (roughly 95%), we shall proceed to tune its hyperparameters."
   ]
  },
  {
   "cell_type": "markdown",
   "id": "d1a5c134",
   "metadata": {},
   "source": [
    "## Step 4: Hyperparameter Tuning"
   ]
  },
  {
   "cell_type": "markdown",
   "id": "e536dcc5",
   "metadata": {},
   "source": [
    "Let us find the roughly the best hyperparameters of the `RandomForestClassifier` model using `Optuna`."
   ]
  },
  {
   "cell_type": "code",
   "execution_count": 21,
   "id": "cb3964cf",
   "metadata": {},
   "outputs": [],
   "source": [
    "import optuna\n",
    "import sklearn"
   ]
  },
  {
   "cell_type": "code",
   "execution_count": 22,
   "id": "0a0aeb32",
   "metadata": {},
   "outputs": [],
   "source": [
    "# the objective function is used by optuna to tune the hyperparameters\n",
    "def objective(trial):\n",
    "    # on each trial, a value is suggested for each of the defined hyperparameters\n",
    "    # the values are then used to train the model and its score is evaluated\n",
    "    n_estimators = int(trial.suggest_float('n_estimators', 200, 2000, step=10))\n",
    "    max_features = trial.suggest_categorical('max_features', ['auto', 'sqrt','log2'])\n",
    "    max_depth = int(trial.suggest_float('max_depth', 10, 1000, step=10))\n",
    "    min_samples_split = int(trial.suggest_float('min_samples_split', 2, 14, step=3))\n",
    "    min_samples_leaf = int(trial.suggest_float('min_samples_leaf', 1, 8, step=2))\n",
    "    criterion = trial.suggest_categorical('criterion', ['gini', 'entropy', 'log_loss'])\n",
    "    \n",
    "    # instantiating the model with the selected hyperparameters\n",
    "    rfc = RandomForestClassifier(n_estimators=n_estimators,\n",
    "                                 max_features=max_features,\n",
    "                                 max_depth=max_depth,\n",
    "                                 min_samples_split=min_samples_split,\n",
    "                                 min_samples_leaf=min_samples_leaf,\n",
    "                                 criterion=criterion,\n",
    "                                 n_jobs=-1)\n",
    "\n",
    "    # returning the mean of the cross-validation score of the model\n",
    "    return sklearn.model_selection.cross_val_score(\n",
    "        rfc, X_train, y_train, n_jobs=-1, cv=3).mean()"
   ]
  },
  {
   "cell_type": "code",
   "execution_count": 23,
   "id": "07929a29",
   "metadata": {},
   "outputs": [],
   "source": [
    "# # the objective function is used by optuna to tune the hyperparameters\n",
    "# def objective(trial):\n",
    "#     # on each trial, a value is suggested for each of the defined hyperparameters\n",
    "#     # the values are then used to train the model and its score is evaluated\n",
    "#     logreg_c = trial.suggest_float(\"logreg_c\", 1e-10, 1e10, log=True)\n",
    "    \n",
    "# #     C = trial.suggest_float('C', 1, 1000, log=True)\n",
    "# #     solver = trial.suggest_categorical('solver', ['newton-cg', 'lbfgs', 'liblinear', 'sag', 'saga'])\n",
    "# #     penalty = trial.suggest_categorical('penalty', ['l1', 'l2', 'elasticnet', 'none'])\n",
    "#     max_iter = int(trial.suggest_float('max_iter', 100, 5000))\n",
    "    \n",
    "#     # instantiating the model with the selected hyperparameters\n",
    "#     lgr = LogisticRegression(C=logreg_c,\n",
    "#                              max_iter=max_iter)\n",
    "\n",
    "#     # returning the mean of the cross-validation score of the model\n",
    "#     return sklearn.model_selection.cross_val_score(\n",
    "#         lgr, X_train, y_train, n_jobs=-1, cv=3).mean()"
   ]
  },
  {
   "cell_type": "code",
   "execution_count": 24,
   "id": "3635e2e1",
   "metadata": {},
   "outputs": [],
   "source": [
    "# # the objective function is used by optuna to tune the hyperparameters\n",
    "# def objective(trial):\n",
    "#     # on each trial, a value is suggested for each of the defined hyperparameters\n",
    "#     # the values are then used to train the model and its score is evaluated\n",
    "#     _c = trial.suggest_float('c', 1e-10, 1e10, log=True)\n",
    "#     _degree = trial.suggest_float('degree', 1, 100)\n",
    "#     _kernel = trial.suggest_categorical(\"kernel\", [\"linear\", \"poly\", \"rbf\", \"sigmoid\"])\n",
    "#     _gamma = trial.suggest_categorical(\"gamma\", [\"auto\", \"scale\"])\n",
    "#     _decision_function_shape = trial.suggest_categorical(\"decision_function_shape\", [\"ovo\", \"ovr\"])\n",
    "# #     c.append(_c)\n",
    "# #     degree.append(_degree)\n",
    "# #     kernel.append(_kernel)\n",
    "# #     gamma.append(_gamma)\n",
    "# #     decision_function_shape.append(_decision_function_shape)\n",
    "# #     print(\"Trial Parameters:\")\n",
    "# #     print(_c)\n",
    "# #     print(_degree)\n",
    "# #     print(_kernel)    \n",
    "# #     print(_gamma)\n",
    "# #     print(_decision_function_shape)\n",
    "    \n",
    "\n",
    "#     # instantiating the model with the selected hyperparameters\n",
    "#     svc = SVC(C=_c,\n",
    "#               degree=_degree,\n",
    "#               kernel=_kernel,\n",
    "#               gamma=_gamma,\n",
    "#               decision_function_shape=_decision_function_shape)\n",
    "#     svc.fit(X_train, y_train)\n",
    "\n",
    "#     # returning the mean of the cross-validation score of the model\n",
    "#     return svc.score(X_test, y_test)"
   ]
  },
  {
   "cell_type": "code",
   "execution_count": 25,
   "id": "75dc86c0",
   "metadata": {
    "scrolled": true
   },
   "outputs": [
    {
     "name": "stderr",
     "output_type": "stream",
     "text": [
      "\u001b[32m[I 2022-09-24 13:33:14,899]\u001b[0m A new study created in memory with name: no-name-633b8e6c-13a5-49d7-874a-750cbea2a419\u001b[0m\n",
      "D:\\Machine Learning Projects\\tweet_sentiment_analysis\\env\\lib\\site-packages\\optuna\\distributions.py:668: UserWarning: The distribution is specified by [1, 8] and step=2, but the range is not divisible by `step`. It will be replaced by [1, 7.0].\n",
      "  warnings.warn(\n",
      "\u001b[32m[I 2022-09-24 13:36:41,070]\u001b[0m Trial 0 finished with value: 0.6938864628820961 and parameters: {'n_estimators': 740.0, 'max_features': 'log2', 'max_depth': 610.0, 'min_samples_split': 8.0, 'min_samples_leaf': 1.0, 'criterion': 'log_loss'}. Best is trial 0 with value: 0.6938864628820961.\u001b[0m\n",
      "D:\\Machine Learning Projects\\tweet_sentiment_analysis\\env\\lib\\site-packages\\optuna\\distributions.py:668: UserWarning: The distribution is specified by [1, 8] and step=2, but the range is not divisible by `step`. It will be replaced by [1, 7.0].\n",
      "  warnings.warn(\n",
      "\u001b[32m[I 2022-09-24 13:38:09,259]\u001b[0m Trial 1 finished with value: 0.6969432314410481 and parameters: {'n_estimators': 820.0, 'max_features': 'sqrt', 'max_depth': 220.0, 'min_samples_split': 2.0, 'min_samples_leaf': 7.0, 'criterion': 'entropy'}. Best is trial 1 with value: 0.6969432314410481.\u001b[0m\n",
      "D:\\Machine Learning Projects\\tweet_sentiment_analysis\\env\\lib\\site-packages\\optuna\\distributions.py:668: UserWarning: The distribution is specified by [1, 8] and step=2, but the range is not divisible by `step`. It will be replaced by [1, 7.0].\n",
      "  warnings.warn(\n",
      "\u001b[32m[I 2022-09-24 13:38:23,152]\u001b[0m Trial 2 finished with value: 0.40454876273653567 and parameters: {'n_estimators': 1900.0, 'max_features': 'log2', 'max_depth': 70.0, 'min_samples_split': 2.0, 'min_samples_leaf': 7.0, 'criterion': 'log_loss'}. Best is trial 1 with value: 0.6969432314410481.\u001b[0m\n",
      "D:\\Machine Learning Projects\\tweet_sentiment_analysis\\env\\lib\\site-packages\\optuna\\distributions.py:668: UserWarning: The distribution is specified by [1, 8] and step=2, but the range is not divisible by `step`. It will be replaced by [1, 7.0].\n",
      "  warnings.warn(\n",
      "\u001b[32m[I 2022-09-24 13:38:26,005]\u001b[0m Trial 3 finished with value: 0.40454876273653567 and parameters: {'n_estimators': 380.0, 'max_features': 'log2', 'max_depth': 430.0, 'min_samples_split': 14.0, 'min_samples_leaf': 7.0, 'criterion': 'entropy'}. Best is trial 1 with value: 0.6969432314410481.\u001b[0m\n",
      "D:\\Machine Learning Projects\\tweet_sentiment_analysis\\env\\lib\\site-packages\\optuna\\distributions.py:668: UserWarning: The distribution is specified by [1, 8] and step=2, but the range is not divisible by `step`. It will be replaced by [1, 7.0].\n",
      "  warnings.warn(\n",
      "\u001b[32m[I 2022-09-24 13:38:34,320]\u001b[0m Trial 4 finished with value: 0.408806404657933 and parameters: {'n_estimators': 690.0, 'max_features': 'log2', 'max_depth': 800.0, 'min_samples_split': 5.0, 'min_samples_leaf': 5.0, 'criterion': 'entropy'}. Best is trial 1 with value: 0.6969432314410481.\u001b[0m\n",
      "D:\\Machine Learning Projects\\tweet_sentiment_analysis\\env\\lib\\site-packages\\optuna\\distributions.py:668: UserWarning: The distribution is specified by [1, 8] and step=2, but the range is not divisible by `step`. It will be replaced by [1, 7.0].\n",
      "  warnings.warn(\n",
      "\u001b[32m[I 2022-09-24 13:40:28,335]\u001b[0m Trial 5 finished with value: 0.7023653566229985 and parameters: {'n_estimators': 960.0, 'max_features': 'sqrt', 'max_depth': 590.0, 'min_samples_split': 14.0, 'min_samples_leaf': 5.0, 'criterion': 'entropy'}. Best is trial 5 with value: 0.7023653566229985.\u001b[0m\n",
      "D:\\Machine Learning Projects\\tweet_sentiment_analysis\\env\\lib\\site-packages\\optuna\\distributions.py:668: UserWarning: The distribution is specified by [1, 8] and step=2, but the range is not divisible by `step`. It will be replaced by [1, 7.0].\n",
      "  warnings.warn(\n",
      "\u001b[32m[I 2022-09-24 13:40:31,236]\u001b[0m Trial 6 finished with value: 0.40458515283842794 and parameters: {'n_estimators': 280.0, 'max_features': 'log2', 'max_depth': 310.0, 'min_samples_split': 8.0, 'min_samples_leaf': 7.0, 'criterion': 'entropy'}. Best is trial 5 with value: 0.7023653566229985.\u001b[0m\n",
      "D:\\Machine Learning Projects\\tweet_sentiment_analysis\\env\\lib\\site-packages\\optuna\\distributions.py:668: UserWarning: The distribution is specified by [1, 8] and step=2, but the range is not divisible by `step`. It will be replaced by [1, 7.0].\n",
      "  warnings.warn(\n",
      "\u001b[32m[I 2022-09-24 13:42:08,291]\u001b[0m Trial 7 finished with value: 0.6970887918486172 and parameters: {'n_estimators': 900.0, 'max_features': 'auto', 'max_depth': 950.0, 'min_samples_split': 11.0, 'min_samples_leaf': 7.0, 'criterion': 'gini'}. Best is trial 5 with value: 0.7023653566229985.\u001b[0m\n",
      "D:\\Machine Learning Projects\\tweet_sentiment_analysis\\env\\lib\\site-packages\\optuna\\distributions.py:668: UserWarning: The distribution is specified by [1, 8] and step=2, but the range is not divisible by `step`. It will be replaced by [1, 7.0].\n",
      "  warnings.warn(\n",
      "\u001b[32m[I 2022-09-24 13:48:35,161]\u001b[0m Trial 8 finished with value: 0.6818049490538574 and parameters: {'n_estimators': 1670.0, 'max_features': 'log2', 'max_depth': 340.0, 'min_samples_split': 8.0, 'min_samples_leaf': 1.0, 'criterion': 'log_loss'}. Best is trial 5 with value: 0.7023653566229985.\u001b[0m\n",
      "D:\\Machine Learning Projects\\tweet_sentiment_analysis\\env\\lib\\site-packages\\optuna\\distributions.py:668: UserWarning: The distribution is specified by [1, 8] and step=2, but the range is not divisible by `step`. It will be replaced by [1, 7.0].\n",
      "  warnings.warn(\n",
      "\u001b[32m[I 2022-09-24 13:48:55,756]\u001b[0m Trial 9 finished with value: 0.40786026200873354 and parameters: {'n_estimators': 1710.0, 'max_features': 'log2', 'max_depth': 420.0, 'min_samples_split': 2.0, 'min_samples_leaf': 5.0, 'criterion': 'log_loss'}. Best is trial 5 with value: 0.7023653566229985.\u001b[0m\n",
      "D:\\Machine Learning Projects\\tweet_sentiment_analysis\\env\\lib\\site-packages\\optuna\\distributions.py:668: UserWarning: The distribution is specified by [1, 8] and step=2, but the range is not divisible by `step`. It will be replaced by [1, 7.0].\n",
      "  warnings.warn(\n",
      "\u001b[32m[I 2022-09-24 13:51:53,179]\u001b[0m Trial 10 finished with value: 0.7092066957787483 and parameters: {'n_estimators': 1290.0, 'max_features': 'sqrt', 'max_depth': 650.0, 'min_samples_split': 14.0, 'min_samples_leaf': 3.0, 'criterion': 'gini'}. Best is trial 10 with value: 0.7092066957787483.\u001b[0m\n",
      "D:\\Machine Learning Projects\\tweet_sentiment_analysis\\env\\lib\\site-packages\\optuna\\distributions.py:668: UserWarning: The distribution is specified by [1, 8] and step=2, but the range is not divisible by `step`. It will be replaced by [1, 7.0].\n",
      "  warnings.warn(\n",
      "\u001b[32m[I 2022-09-24 13:54:58,149]\u001b[0m Trial 11 finished with value: 0.7095342066957787 and parameters: {'n_estimators': 1340.0, 'max_features': 'sqrt', 'max_depth': 660.0, 'min_samples_split': 14.0, 'min_samples_leaf': 3.0, 'criterion': 'gini'}. Best is trial 11 with value: 0.7095342066957787.\u001b[0m\n",
      "D:\\Machine Learning Projects\\tweet_sentiment_analysis\\env\\lib\\site-packages\\optuna\\distributions.py:668: UserWarning: The distribution is specified by [1, 8] and step=2, but the range is not divisible by `step`. It will be replaced by [1, 7.0].\n",
      "  warnings.warn(\n",
      "\u001b[32m[I 2022-09-24 13:57:58,720]\u001b[0m Trial 12 finished with value: 0.7093886462882096 and parameters: {'n_estimators': 1310.0, 'max_features': 'sqrt', 'max_depth': 700.0, 'min_samples_split': 11.0, 'min_samples_leaf': 3.0, 'criterion': 'gini'}. Best is trial 11 with value: 0.7095342066957787.\u001b[0m\n",
      "D:\\Machine Learning Projects\\tweet_sentiment_analysis\\env\\lib\\site-packages\\optuna\\distributions.py:668: UserWarning: The distribution is specified by [1, 8] and step=2, but the range is not divisible by `step`. It will be replaced by [1, 7.0].\n",
      "  warnings.warn(\n",
      "\u001b[32m[I 2022-09-24 14:00:57,523]\u001b[0m Trial 13 finished with value: 0.7093522561863174 and parameters: {'n_estimators': 1300.0, 'max_features': 'sqrt', 'max_depth': 770.0, 'min_samples_split': 11.0, 'min_samples_leaf': 3.0, 'criterion': 'gini'}. Best is trial 11 with value: 0.7095342066957787.\u001b[0m\n",
      "D:\\Machine Learning Projects\\tweet_sentiment_analysis\\env\\lib\\site-packages\\optuna\\distributions.py:668: UserWarning: The distribution is specified by [1, 8] and step=2, but the range is not divisible by `step`. It will be replaced by [1, 7.0].\n",
      "  warnings.warn(\n"
     ]
    },
    {
     "name": "stderr",
     "output_type": "stream",
     "text": [
      "\u001b[32m[I 2022-09-24 14:03:50,944]\u001b[0m Trial 14 finished with value: 0.7096433770014556 and parameters: {'n_estimators': 1260.0, 'max_features': 'sqrt', 'max_depth': 960.0, 'min_samples_split': 11.0, 'min_samples_leaf': 3.0, 'criterion': 'gini'}. Best is trial 14 with value: 0.7096433770014556.\u001b[0m\n",
      "D:\\Machine Learning Projects\\tweet_sentiment_analysis\\env\\lib\\site-packages\\optuna\\distributions.py:668: UserWarning: The distribution is specified by [1, 8] and step=2, but the range is not divisible by `step`. It will be replaced by [1, 7.0].\n",
      "  warnings.warn(\n",
      "\u001b[32m[I 2022-09-24 14:07:19,536]\u001b[0m Trial 15 finished with value: 0.7097161572052402 and parameters: {'n_estimators': 1520.0, 'max_features': 'auto', 'max_depth': 980.0, 'min_samples_split': 11.0, 'min_samples_leaf': 3.0, 'criterion': 'gini'}. Best is trial 15 with value: 0.7097161572052402.\u001b[0m\n",
      "D:\\Machine Learning Projects\\tweet_sentiment_analysis\\env\\lib\\site-packages\\optuna\\distributions.py:668: UserWarning: The distribution is specified by [1, 8] and step=2, but the range is not divisible by `step`. It will be replaced by [1, 7.0].\n",
      "  warnings.warn(\n",
      "\u001b[32m[I 2022-09-24 14:16:05,569]\u001b[0m Trial 16 finished with value: 0.7117176128093159 and parameters: {'n_estimators': 1520.0, 'max_features': 'auto', 'max_depth': 970.0, 'min_samples_split': 11.0, 'min_samples_leaf': 1.0, 'criterion': 'gini'}. Best is trial 16 with value: 0.7117176128093159.\u001b[0m\n",
      "D:\\Machine Learning Projects\\tweet_sentiment_analysis\\env\\lib\\site-packages\\optuna\\distributions.py:668: UserWarning: The distribution is specified by [1, 8] and step=2, but the range is not divisible by `step`. It will be replaced by [1, 7.0].\n",
      "  warnings.warn(\n",
      "\u001b[32m[I 2022-09-24 14:28:22,663]\u001b[0m Trial 17 finished with value: 0.7082605531295488 and parameters: {'n_estimators': 1640.0, 'max_features': 'auto', 'max_depth': 860.0, 'min_samples_split': 5.0, 'min_samples_leaf': 1.0, 'criterion': 'gini'}. Best is trial 16 with value: 0.7117176128093159.\u001b[0m\n",
      "D:\\Machine Learning Projects\\tweet_sentiment_analysis\\env\\lib\\site-packages\\optuna\\distributions.py:668: UserWarning: The distribution is specified by [1, 8] and step=2, but the range is not divisible by `step`. It will be replaced by [1, 7.0].\n",
      "  warnings.warn(\n",
      "\u001b[32m[I 2022-09-24 14:37:10,460]\u001b[0m Trial 18 finished with value: 0.7110625909752547 and parameters: {'n_estimators': 1530.0, 'max_features': 'auto', 'max_depth': 990.0, 'min_samples_split': 11.0, 'min_samples_leaf': 1.0, 'criterion': 'gini'}. Best is trial 16 with value: 0.7117176128093159.\u001b[0m\n",
      "D:\\Machine Learning Projects\\tweet_sentiment_analysis\\env\\lib\\site-packages\\optuna\\distributions.py:668: UserWarning: The distribution is specified by [1, 8] and step=2, but the range is not divisible by `step`. It will be replaced by [1, 7.0].\n",
      "  warnings.warn(\n",
      "\u001b[32m[I 2022-09-24 14:50:12,973]\u001b[0m Trial 19 finished with value: 0.7088064046579331 and parameters: {'n_estimators': 2000.0, 'max_features': 'auto', 'max_depth': 870.0, 'min_samples_split': 5.0, 'min_samples_leaf': 1.0, 'criterion': 'gini'}. Best is trial 16 with value: 0.7117176128093159.\u001b[0m\n",
      "D:\\Machine Learning Projects\\tweet_sentiment_analysis\\env\\lib\\site-packages\\optuna\\distributions.py:668: UserWarning: The distribution is specified by [1, 8] and step=2, but the range is not divisible by `step`. It will be replaced by [1, 7.0].\n",
      "  warnings.warn(\n",
      "\u001b[32m[I 2022-09-24 14:51:24,756]\u001b[0m Trial 20 finished with value: 0.7112809315866085 and parameters: {'n_estimators': 1090.0, 'max_features': 'auto', 'max_depth': 520.0, 'min_samples_split': 11.0, 'min_samples_leaf': 1.0, 'criterion': 'gini'}. Best is trial 16 with value: 0.7117176128093159.\u001b[0m\n",
      "D:\\Machine Learning Projects\\tweet_sentiment_analysis\\env\\lib\\site-packages\\optuna\\distributions.py:668: UserWarning: The distribution is specified by [1, 8] and step=2, but the range is not divisible by `step`. It will be replaced by [1, 7.0].\n",
      "  warnings.warn(\n",
      "\u001b[32m[I 2022-09-24 14:51:51,991]\u001b[0m Trial 21 finished with value: 0.6833333333333332 and parameters: {'n_estimators': 1040.0, 'max_features': 'auto', 'max_depth': 60.0, 'min_samples_split': 11.0, 'min_samples_leaf': 1.0, 'criterion': 'gini'}. Best is trial 16 with value: 0.7117176128093159.\u001b[0m\n",
      "D:\\Machine Learning Projects\\tweet_sentiment_analysis\\env\\lib\\site-packages\\optuna\\distributions.py:668: UserWarning: The distribution is specified by [1, 8] and step=2, but the range is not divisible by `step`. It will be replaced by [1, 7.0].\n",
      "  warnings.warn(\n",
      "\u001b[32m[I 2022-09-24 14:53:40,596]\u001b[0m Trial 22 finished with value: 0.7114264919941776 and parameters: {'n_estimators': 1440.0, 'max_features': 'auto', 'max_depth': 510.0, 'min_samples_split': 8.0, 'min_samples_leaf': 1.0, 'criterion': 'gini'}. Best is trial 16 with value: 0.7117176128093159.\u001b[0m\n",
      "D:\\Machine Learning Projects\\tweet_sentiment_analysis\\env\\lib\\site-packages\\optuna\\distributions.py:668: UserWarning: The distribution is specified by [1, 8] and step=2, but the range is not divisible by `step`. It will be replaced by [1, 7.0].\n",
      "  warnings.warn(\n",
      "\u001b[32m[I 2022-09-24 14:55:08,270]\u001b[0m Trial 23 finished with value: 0.710589519650655 and parameters: {'n_estimators': 1130.0, 'max_features': 'auto', 'max_depth': 520.0, 'min_samples_split': 8.0, 'min_samples_leaf': 1.0, 'criterion': 'gini'}. Best is trial 16 with value: 0.7117176128093159.\u001b[0m\n",
      "D:\\Machine Learning Projects\\tweet_sentiment_analysis\\env\\lib\\site-packages\\optuna\\distributions.py:668: UserWarning: The distribution is specified by [1, 8] and step=2, but the range is not divisible by `step`. It will be replaced by [1, 7.0].\n",
      "  warnings.warn(\n",
      "\u001b[32m[I 2022-09-24 14:57:05,286]\u001b[0m Trial 24 finished with value: 0.711244541484716 and parameters: {'n_estimators': 1490.0, 'max_features': 'auto', 'max_depth': 520.0, 'min_samples_split': 8.0, 'min_samples_leaf': 1.0, 'criterion': 'gini'}. Best is trial 16 with value: 0.7117176128093159.\u001b[0m\n",
      "D:\\Machine Learning Projects\\tweet_sentiment_analysis\\env\\lib\\site-packages\\optuna\\distributions.py:668: UserWarning: The distribution is specified by [1, 8] and step=2, but the range is not divisible by `step`. It will be replaced by [1, 7.0].\n",
      "  warnings.warn(\n",
      "\u001b[32m[I 2022-09-24 14:57:46,333]\u001b[0m Trial 25 finished with value: 0.7069141193595342 and parameters: {'n_estimators': 550.0, 'max_features': 'auto', 'max_depth': 290.0, 'min_samples_split': 8.0, 'min_samples_leaf': 1.0, 'criterion': 'gini'}. Best is trial 16 with value: 0.7117176128093159.\u001b[0m\n",
      "D:\\Machine Learning Projects\\tweet_sentiment_analysis\\env\\lib\\site-packages\\optuna\\distributions.py:668: UserWarning: The distribution is specified by [1, 8] and step=2, but the range is not divisible by `step`. It will be replaced by [1, 7.0].\n",
      "  warnings.warn(\n",
      "\u001b[32m[I 2022-09-24 14:59:30,333]\u001b[0m Trial 26 finished with value: 0.7077510917030567 and parameters: {'n_estimators': 1120.0, 'max_features': 'auto', 'max_depth': 420.0, 'min_samples_split': 5.0, 'min_samples_leaf': 1.0, 'criterion': 'gini'}. Best is trial 16 with value: 0.7117176128093159.\u001b[0m\n",
      "D:\\Machine Learning Projects\\tweet_sentiment_analysis\\env\\lib\\site-packages\\optuna\\distributions.py:668: UserWarning: The distribution is specified by [1, 8] and step=2, but the range is not divisible by `step`. It will be replaced by [1, 7.0].\n",
      "  warnings.warn(\n",
      "\u001b[32m[I 2022-09-24 15:00:07,334]\u001b[0m Trial 27 finished with value: 0.698871906841339 and parameters: {'n_estimators': 1840.0, 'max_features': 'auto', 'max_depth': 130.0, 'min_samples_split': 11.0, 'min_samples_leaf': 3.0, 'criterion': 'gini'}. Best is trial 16 with value: 0.7117176128093159.\u001b[0m\n",
      "D:\\Machine Learning Projects\\tweet_sentiment_analysis\\env\\lib\\site-packages\\optuna\\distributions.py:668: UserWarning: The distribution is specified by [1, 8] and step=2, but the range is not divisible by `step`. It will be replaced by [1, 7.0].\n",
      "  warnings.warn(\n",
      "\u001b[32m[I 2022-09-24 15:02:10,882]\u001b[0m Trial 28 finished with value: 0.7115720524017467 and parameters: {'n_estimators': 1480.0, 'max_features': 'auto', 'max_depth': 770.0, 'min_samples_split': 8.0, 'min_samples_leaf': 1.0, 'criterion': 'gini'}. Best is trial 16 with value: 0.7117176128093159.\u001b[0m\n",
      "D:\\Machine Learning Projects\\tweet_sentiment_analysis\\env\\lib\\site-packages\\optuna\\distributions.py:668: UserWarning: The distribution is specified by [1, 8] and step=2, but the range is not divisible by `step`. It will be replaced by [1, 7.0].\n",
      "  warnings.warn(\n"
     ]
    },
    {
     "name": "stderr",
     "output_type": "stream",
     "text": [
      "\u001b[32m[I 2022-09-24 15:04:16,256]\u001b[0m Trial 29 finished with value: 0.7084061135371179 and parameters: {'n_estimators': 1430.0, 'max_features': 'auto', 'max_depth': 760.0, 'min_samples_split': 8.0, 'min_samples_leaf': 1.0, 'criterion': 'log_loss'}. Best is trial 16 with value: 0.7117176128093159.\u001b[0m\n",
      "D:\\Machine Learning Projects\\tweet_sentiment_analysis\\env\\lib\\site-packages\\optuna\\distributions.py:668: UserWarning: The distribution is specified by [1, 8] and step=2, but the range is not divisible by `step`. It will be replaced by [1, 7.0].\n",
      "  warnings.warn(\n",
      "\u001b[32m[I 2022-09-24 15:05:09,036]\u001b[0m Trial 30 finished with value: 0.7086972343522562 and parameters: {'n_estimators': 1780.0, 'max_features': 'auto', 'max_depth': 890.0, 'min_samples_split': 5.0, 'min_samples_leaf': 3.0, 'criterion': 'log_loss'}. Best is trial 16 with value: 0.7117176128093159.\u001b[0m\n",
      "D:\\Machine Learning Projects\\tweet_sentiment_analysis\\env\\lib\\site-packages\\optuna\\distributions.py:668: UserWarning: The distribution is specified by [1, 8] and step=2, but the range is not divisible by `step`. It will be replaced by [1, 7.0].\n",
      "  warnings.warn(\n",
      "\u001b[32m[I 2022-09-24 15:06:43,580]\u001b[0m Trial 31 finished with value: 0.7113901018922854 and parameters: {'n_estimators': 1160.0, 'max_features': 'auto', 'max_depth': 600.0, 'min_samples_split': 8.0, 'min_samples_leaf': 1.0, 'criterion': 'gini'}. Best is trial 16 with value: 0.7117176128093159.\u001b[0m\n",
      "D:\\Machine Learning Projects\\tweet_sentiment_analysis\\env\\lib\\site-packages\\optuna\\distributions.py:668: UserWarning: The distribution is specified by [1, 8] and step=2, but the range is not divisible by `step`. It will be replaced by [1, 7.0].\n",
      "  warnings.warn(\n",
      "\u001b[32m[I 2022-09-24 15:08:41,830]\u001b[0m Trial 32 finished with value: 0.7112809315866085 and parameters: {'n_estimators': 1410.0, 'max_features': 'auto', 'max_depth': 730.0, 'min_samples_split': 8.0, 'min_samples_leaf': 1.0, 'criterion': 'gini'}. Best is trial 16 with value: 0.7117176128093159.\u001b[0m\n",
      "D:\\Machine Learning Projects\\tweet_sentiment_analysis\\env\\lib\\site-packages\\optuna\\distributions.py:668: UserWarning: The distribution is specified by [1, 8] and step=2, but the range is not divisible by `step`. It will be replaced by [1, 7.0].\n",
      "  warnings.warn(\n",
      "\u001b[32m[I 2022-09-24 15:10:50,676]\u001b[0m Trial 33 finished with value: 0.7119723435225618 and parameters: {'n_estimators': 1590.0, 'max_features': 'auto', 'max_depth': 640.0, 'min_samples_split': 8.0, 'min_samples_leaf': 1.0, 'criterion': 'gini'}. Best is trial 33 with value: 0.7119723435225618.\u001b[0m\n",
      "D:\\Machine Learning Projects\\tweet_sentiment_analysis\\env\\lib\\site-packages\\optuna\\distributions.py:668: UserWarning: The distribution is specified by [1, 8] and step=2, but the range is not divisible by `step`. It will be replaced by [1, 7.0].\n",
      "  warnings.warn(\n",
      "\u001b[32m[I 2022-09-24 15:12:59,851]\u001b[0m Trial 34 finished with value: 0.7116448326055314 and parameters: {'n_estimators': 1590.0, 'max_features': 'auto', 'max_depth': 600.0, 'min_samples_split': 8.0, 'min_samples_leaf': 1.0, 'criterion': 'gini'}. Best is trial 33 with value: 0.7119723435225618.\u001b[0m\n",
      "D:\\Machine Learning Projects\\tweet_sentiment_analysis\\env\\lib\\site-packages\\optuna\\distributions.py:668: UserWarning: The distribution is specified by [1, 8] and step=2, but the range is not divisible by `step`. It will be replaced by [1, 7.0].\n",
      "  warnings.warn(\n",
      "\u001b[32m[I 2022-09-24 15:15:51,380]\u001b[0m Trial 35 finished with value: 0.7051673944687046 and parameters: {'n_estimators': 1640.0, 'max_features': 'auto', 'max_depth': 810.0, 'min_samples_split': 5.0, 'min_samples_leaf': 1.0, 'criterion': 'entropy'}. Best is trial 33 with value: 0.7119723435225618.\u001b[0m\n",
      "D:\\Machine Learning Projects\\tweet_sentiment_analysis\\env\\lib\\site-packages\\optuna\\distributions.py:668: UserWarning: The distribution is specified by [1, 8] and step=2, but the range is not divisible by `step`. It will be replaced by [1, 7.0].\n",
      "  warnings.warn(\n",
      "\u001b[32m[I 2022-09-24 15:17:59,725]\u001b[0m Trial 36 finished with value: 0.7119723435225618 and parameters: {'n_estimators': 1570.0, 'max_features': 'auto', 'max_depth': 680.0, 'min_samples_split': 8.0, 'min_samples_leaf': 1.0, 'criterion': 'gini'}. Best is trial 33 with value: 0.7119723435225618.\u001b[0m\n",
      "D:\\Machine Learning Projects\\tweet_sentiment_analysis\\env\\lib\\site-packages\\optuna\\distributions.py:668: UserWarning: The distribution is specified by [1, 8] and step=2, but the range is not divisible by `step`. It will be replaced by [1, 7.0].\n",
      "  warnings.warn(\n",
      "\u001b[32m[I 2022-09-24 15:18:54,740]\u001b[0m Trial 37 finished with value: 0.7084425036390102 and parameters: {'n_estimators': 1920.0, 'max_features': 'auto', 'max_depth': 650.0, 'min_samples_split': 5.0, 'min_samples_leaf': 3.0, 'criterion': 'entropy'}. Best is trial 33 with value: 0.7119723435225618.\u001b[0m\n",
      "D:\\Machine Learning Projects\\tweet_sentiment_analysis\\env\\lib\\site-packages\\optuna\\distributions.py:668: UserWarning: The distribution is specified by [1, 8] and step=2, but the range is not divisible by `step`. It will be replaced by [1, 7.0].\n",
      "  warnings.warn(\n",
      "\u001b[32m[I 2022-09-24 15:18:59,382]\u001b[0m Trial 38 finished with value: 0.40793304221251825 and parameters: {'n_estimators': 1770.0, 'max_features': 'log2', 'max_depth': 580.0, 'min_samples_split': 8.0, 'min_samples_leaf': 5.0, 'criterion': 'log_loss'}. Best is trial 33 with value: 0.7119723435225618.\u001b[0m\n",
      "D:\\Machine Learning Projects\\tweet_sentiment_analysis\\env\\lib\\site-packages\\optuna\\distributions.py:668: UserWarning: The distribution is specified by [1, 8] and step=2, but the range is not divisible by `step`. It will be replaced by [1, 7.0].\n",
      "  warnings.warn(\n",
      "\u001b[32m[I 2022-09-24 15:20:51,615]\u001b[0m Trial 39 finished with value: 0.7092430858806403 and parameters: {'n_estimators': 1600.0, 'max_features': 'auto', 'max_depth': 690.0, 'min_samples_split': 14.0, 'min_samples_leaf': 1.0, 'criterion': 'entropy'}. Best is trial 33 with value: 0.7119723435225618.\u001b[0m\n",
      "D:\\Machine Learning Projects\\tweet_sentiment_analysis\\env\\lib\\site-packages\\optuna\\distributions.py:668: UserWarning: The distribution is specified by [1, 8] and step=2, but the range is not divisible by `step`. It will be replaced by [1, 7.0].\n",
      "  warnings.warn(\n",
      "\u001b[32m[I 2022-09-24 15:23:06,943]\u001b[0m Trial 40 finished with value: 0.7107714701601164 and parameters: {'n_estimators': 1580.0, 'max_features': 'auto', 'max_depth': 910.0, 'min_samples_split': 8.0, 'min_samples_leaf': 1.0, 'criterion': 'gini'}. Best is trial 33 with value: 0.7119723435225618.\u001b[0m\n",
      "D:\\Machine Learning Projects\\tweet_sentiment_analysis\\env\\lib\\site-packages\\optuna\\distributions.py:668: UserWarning: The distribution is specified by [1, 8] and step=2, but the range is not divisible by `step`. It will be replaced by [1, 7.0].\n",
      "  warnings.warn(\n",
      "\u001b[32m[I 2022-09-24 15:25:30,490]\u001b[0m Trial 41 finished with value: 0.7115720524017467 and parameters: {'n_estimators': 1730.0, 'max_features': 'auto', 'max_depth': 810.0, 'min_samples_split': 8.0, 'min_samples_leaf': 1.0, 'criterion': 'gini'}. Best is trial 33 with value: 0.7119723435225618.\u001b[0m\n",
      "D:\\Machine Learning Projects\\tweet_sentiment_analysis\\env\\lib\\site-packages\\optuna\\distributions.py:668: UserWarning: The distribution is specified by [1, 8] and step=2, but the range is not divisible by `step`. It will be replaced by [1, 7.0].\n",
      "  warnings.warn(\n",
      "\u001b[32m[I 2022-09-24 15:27:53,286]\u001b[0m Trial 42 finished with value: 0.7110625909752547 and parameters: {'n_estimators': 1740.0, 'max_features': 'auto', 'max_depth': 820.0, 'min_samples_split': 8.0, 'min_samples_leaf': 1.0, 'criterion': 'gini'}. Best is trial 33 with value: 0.7119723435225618.\u001b[0m\n",
      "D:\\Machine Learning Projects\\tweet_sentiment_analysis\\env\\lib\\site-packages\\optuna\\distributions.py:668: UserWarning: The distribution is specified by [1, 8] and step=2, but the range is not divisible by `step`. It will be replaced by [1, 7.0].\n",
      "  warnings.warn(\n",
      "\u001b[32m[I 2022-09-24 15:29:55,804]\u001b[0m Trial 43 finished with value: 0.6914847161572052 and parameters: {'n_estimators': 1390.0, 'max_features': 'log2', 'max_depth': 600.0, 'min_samples_split': 5.0, 'min_samples_leaf': 1.0, 'criterion': 'gini'}. Best is trial 33 with value: 0.7119723435225618.\u001b[0m\n",
      "D:\\Machine Learning Projects\\tweet_sentiment_analysis\\env\\lib\\site-packages\\optuna\\distributions.py:668: UserWarning: The distribution is specified by [1, 8] and step=2, but the range is not divisible by `step`. It will be replaced by [1, 7.0].\n",
      "  warnings.warn(\n"
     ]
    },
    {
     "name": "stderr",
     "output_type": "stream",
     "text": [
      "\u001b[32m[I 2022-09-24 15:31:29,568]\u001b[0m Trial 44 finished with value: 0.7102256186317323 and parameters: {'n_estimators': 1230.0, 'max_features': 'auto', 'max_depth': 450.0, 'min_samples_split': 8.0, 'min_samples_leaf': 1.0, 'criterion': 'gini'}. Best is trial 33 with value: 0.7119723435225618.\u001b[0m\n",
      "D:\\Machine Learning Projects\\tweet_sentiment_analysis\\env\\lib\\site-packages\\optuna\\distributions.py:668: UserWarning: The distribution is specified by [1, 8] and step=2, but the range is not divisible by `step`. It will be replaced by [1, 7.0].\n",
      "  warnings.warn(\n",
      "\u001b[32m[I 2022-09-24 15:32:19,771]\u001b[0m Trial 45 finished with value: 0.7093522561863174 and parameters: {'n_estimators': 1870.0, 'max_features': 'auto', 'max_depth': 920.0, 'min_samples_split': 8.0, 'min_samples_leaf': 3.0, 'criterion': 'gini'}. Best is trial 33 with value: 0.7119723435225618.\u001b[0m\n",
      "D:\\Machine Learning Projects\\tweet_sentiment_analysis\\env\\lib\\site-packages\\optuna\\distributions.py:668: UserWarning: The distribution is specified by [1, 8] and step=2, but the range is not divisible by `step`. It will be replaced by [1, 7.0].\n",
      "  warnings.warn(\n",
      "\u001b[32m[I 2022-09-24 15:32:53,546]\u001b[0m Trial 46 finished with value: 0.7033478893740903 and parameters: {'n_estimators': 1480.0, 'max_features': 'auto', 'max_depth': 570.0, 'min_samples_split': 2.0, 'min_samples_leaf': 5.0, 'criterion': 'gini'}. Best is trial 33 with value: 0.7119723435225618.\u001b[0m\n",
      "D:\\Machine Learning Projects\\tweet_sentiment_analysis\\env\\lib\\site-packages\\optuna\\distributions.py:668: UserWarning: The distribution is specified by [1, 8] and step=2, but the range is not divisible by `step`. It will be replaced by [1, 7.0].\n",
      "  warnings.warn(\n",
      "\u001b[32m[I 2022-09-24 15:32:56,711]\u001b[0m Trial 47 finished with value: 0.40454876273653567 and parameters: {'n_estimators': 1550.0, 'max_features': 'log2', 'max_depth': 710.0, 'min_samples_split': 11.0, 'min_samples_leaf': 7.0, 'criterion': 'log_loss'}. Best is trial 33 with value: 0.7119723435225618.\u001b[0m\n",
      "D:\\Machine Learning Projects\\tweet_sentiment_analysis\\env\\lib\\site-packages\\optuna\\distributions.py:668: UserWarning: The distribution is specified by [1, 8] and step=2, but the range is not divisible by `step`. It will be replaced by [1, 7.0].\n",
      "  warnings.warn(\n",
      "\u001b[32m[I 2022-09-24 15:35:33,818]\u001b[0m Trial 48 finished with value: 0.7088791848617175 and parameters: {'n_estimators': 1360.0, 'max_features': 'sqrt', 'max_depth': 750.0, 'min_samples_split': 11.0, 'min_samples_leaf': 1.0, 'criterion': 'entropy'}. Best is trial 33 with value: 0.7119723435225618.\u001b[0m\n",
      "D:\\Machine Learning Projects\\tweet_sentiment_analysis\\env\\lib\\site-packages\\optuna\\distributions.py:668: UserWarning: The distribution is specified by [1, 8] and step=2, but the range is not divisible by `step`. It will be replaced by [1, 7.0].\n",
      "  warnings.warn(\n",
      "\u001b[32m[I 2022-09-24 15:36:17,409]\u001b[0m Trial 49 finished with value: 0.7096069868995633 and parameters: {'n_estimators': 1670.0, 'max_features': 'auto', 'max_depth': 640.0, 'min_samples_split': 8.0, 'min_samples_leaf': 3.0, 'criterion': 'gini'}. Best is trial 33 with value: 0.7119723435225618.\u001b[0m\n",
      "D:\\Machine Learning Projects\\tweet_sentiment_analysis\\env\\lib\\site-packages\\optuna\\distributions.py:668: UserWarning: The distribution is specified by [1, 8] and step=2, but the range is not divisible by `step`. It will be replaced by [1, 7.0].\n",
      "  warnings.warn(\n",
      "\u001b[32m[I 2022-09-24 15:38:28,609]\u001b[0m Trial 50 finished with value: 0.7118995633187772 and parameters: {'n_estimators': 1820.0, 'max_features': 'sqrt', 'max_depth': 840.0, 'min_samples_split': 11.0, 'min_samples_leaf': 1.0, 'criterion': 'gini'}. Best is trial 33 with value: 0.7119723435225618.\u001b[0m\n",
      "D:\\Machine Learning Projects\\tweet_sentiment_analysis\\env\\lib\\site-packages\\optuna\\distributions.py:668: UserWarning: The distribution is specified by [1, 8] and step=2, but the range is not divisible by `step`. It will be replaced by [1, 7.0].\n",
      "  warnings.warn(\n",
      "\u001b[32m[I 2022-09-24 15:40:54,875]\u001b[0m Trial 51 finished with value: 0.7124818049490539 and parameters: {'n_estimators': 1990.0, 'max_features': 'sqrt', 'max_depth': 830.0, 'min_samples_split': 11.0, 'min_samples_leaf': 1.0, 'criterion': 'gini'}. Best is trial 51 with value: 0.7124818049490539.\u001b[0m\n",
      "D:\\Machine Learning Projects\\tweet_sentiment_analysis\\env\\lib\\site-packages\\optuna\\distributions.py:668: UserWarning: The distribution is specified by [1, 8] and step=2, but the range is not divisible by `step`. It will be replaced by [1, 7.0].\n",
      "  warnings.warn(\n",
      "\u001b[32m[I 2022-09-24 15:43:05,446]\u001b[0m Trial 52 finished with value: 0.7127365356622999 and parameters: {'n_estimators': 1980.0, 'max_features': 'sqrt', 'max_depth': 670.0, 'min_samples_split': 14.0, 'min_samples_leaf': 1.0, 'criterion': 'gini'}. Best is trial 52 with value: 0.7127365356622999.\u001b[0m\n",
      "D:\\Machine Learning Projects\\tweet_sentiment_analysis\\env\\lib\\site-packages\\optuna\\distributions.py:668: UserWarning: The distribution is specified by [1, 8] and step=2, but the range is not divisible by `step`. It will be replaced by [1, 7.0].\n",
      "  warnings.warn(\n",
      "\u001b[32m[I 2022-09-24 15:45:17,592]\u001b[0m Trial 53 finished with value: 0.7114628820960699 and parameters: {'n_estimators': 1970.0, 'max_features': 'sqrt', 'max_depth': 950.0, 'min_samples_split': 14.0, 'min_samples_leaf': 1.0, 'criterion': 'gini'}. Best is trial 52 with value: 0.7127365356622999.\u001b[0m\n",
      "D:\\Machine Learning Projects\\tweet_sentiment_analysis\\env\\lib\\site-packages\\optuna\\distributions.py:668: UserWarning: The distribution is specified by [1, 8] and step=2, but the range is not divisible by `step`. It will be replaced by [1, 7.0].\n",
      "  warnings.warn(\n",
      "\u001b[32m[I 2022-09-24 15:47:23,592]\u001b[0m Trial 54 finished with value: 0.7117176128093159 and parameters: {'n_estimators': 1830.0, 'max_features': 'sqrt', 'max_depth': 850.0, 'min_samples_split': 14.0, 'min_samples_leaf': 1.0, 'criterion': 'gini'}. Best is trial 52 with value: 0.7127365356622999.\u001b[0m\n",
      "D:\\Machine Learning Projects\\tweet_sentiment_analysis\\env\\lib\\site-packages\\optuna\\distributions.py:668: UserWarning: The distribution is specified by [1, 8] and step=2, but the range is not divisible by `step`. It will be replaced by [1, 7.0].\n",
      "  warnings.warn(\n",
      "\u001b[32m[I 2022-09-24 15:48:12,449]\u001b[0m Trial 55 finished with value: 0.7090975254730713 and parameters: {'n_estimators': 1840.0, 'max_features': 'sqrt', 'max_depth': 840.0, 'min_samples_split': 14.0, 'min_samples_leaf': 3.0, 'criterion': 'gini'}. Best is trial 52 with value: 0.7127365356622999.\u001b[0m\n",
      "D:\\Machine Learning Projects\\tweet_sentiment_analysis\\env\\lib\\site-packages\\optuna\\distributions.py:668: UserWarning: The distribution is specified by [1, 8] and step=2, but the range is not divisible by `step`. It will be replaced by [1, 7.0].\n",
      "  warnings.warn(\n",
      "\u001b[32m[I 2022-09-24 15:50:18,247]\u001b[0m Trial 56 finished with value: 0.7125909752547308 and parameters: {'n_estimators': 1910.0, 'max_features': 'sqrt', 'max_depth': 690.0, 'min_samples_split': 14.0, 'min_samples_leaf': 1.0, 'criterion': 'gini'}. Best is trial 52 with value: 0.7127365356622999.\u001b[0m\n",
      "D:\\Machine Learning Projects\\tweet_sentiment_analysis\\env\\lib\\site-packages\\optuna\\distributions.py:668: UserWarning: The distribution is specified by [1, 8] and step=2, but the range is not divisible by `step`. It will be replaced by [1, 7.0].\n",
      "  warnings.warn(\n",
      "\u001b[32m[I 2022-09-24 15:52:31,455]\u001b[0m Trial 57 finished with value: 0.7120815138282387 and parameters: {'n_estimators': 1990.0, 'max_features': 'sqrt', 'max_depth': 680.0, 'min_samples_split': 14.0, 'min_samples_leaf': 1.0, 'criterion': 'gini'}. Best is trial 52 with value: 0.7127365356622999.\u001b[0m\n",
      "D:\\Machine Learning Projects\\tweet_sentiment_analysis\\env\\lib\\site-packages\\optuna\\distributions.py:668: UserWarning: The distribution is specified by [1, 8] and step=2, but the range is not divisible by `step`. It will be replaced by [1, 7.0].\n",
      "  warnings.warn(\n",
      "\u001b[32m[I 2022-09-24 15:54:41,588]\u001b[0m Trial 58 finished with value: 0.7129184861717613 and parameters: {'n_estimators': 1940.0, 'max_features': 'sqrt', 'max_depth': 670.0, 'min_samples_split': 14.0, 'min_samples_leaf': 1.0, 'criterion': 'gini'}. Best is trial 58 with value: 0.7129184861717613.\u001b[0m\n",
      "D:\\Machine Learning Projects\\tweet_sentiment_analysis\\env\\lib\\site-packages\\optuna\\distributions.py:668: UserWarning: The distribution is specified by [1, 8] and step=2, but the range is not divisible by `step`. It will be replaced by [1, 7.0].\n",
      "  warnings.warn(\n"
     ]
    },
    {
     "name": "stderr",
     "output_type": "stream",
     "text": [
      "\u001b[32m[I 2022-09-24 15:56:47,905]\u001b[0m Trial 59 finished with value: 0.7115356622998544 and parameters: {'n_estimators': 1940.0, 'max_features': 'sqrt', 'max_depth': 560.0, 'min_samples_split': 14.0, 'min_samples_leaf': 1.0, 'criterion': 'gini'}. Best is trial 58 with value: 0.7129184861717613.\u001b[0m\n",
      "D:\\Machine Learning Projects\\tweet_sentiment_analysis\\env\\lib\\site-packages\\optuna\\distributions.py:668: UserWarning: The distribution is specified by [1, 8] and step=2, but the range is not divisible by `step`. It will be replaced by [1, 7.0].\n",
      "  warnings.warn(\n",
      "\u001b[32m[I 2022-09-24 15:59:01,812]\u001b[0m Trial 60 finished with value: 0.7122270742358078 and parameters: {'n_estimators': 1990.0, 'max_features': 'sqrt', 'max_depth': 680.0, 'min_samples_split': 14.0, 'min_samples_leaf': 1.0, 'criterion': 'gini'}. Best is trial 58 with value: 0.7129184861717613.\u001b[0m\n",
      "D:\\Machine Learning Projects\\tweet_sentiment_analysis\\env\\lib\\site-packages\\optuna\\distributions.py:668: UserWarning: The distribution is specified by [1, 8] and step=2, but the range is not divisible by `step`. It will be replaced by [1, 7.0].\n",
      "  warnings.warn(\n",
      "\u001b[32m[I 2022-09-24 16:01:18,940]\u001b[0m Trial 61 finished with value: 0.712117903930131 and parameters: {'n_estimators': 2000.0, 'max_features': 'sqrt', 'max_depth': 670.0, 'min_samples_split': 14.0, 'min_samples_leaf': 1.0, 'criterion': 'gini'}. Best is trial 58 with value: 0.7129184861717613.\u001b[0m\n",
      "D:\\Machine Learning Projects\\tweet_sentiment_analysis\\env\\lib\\site-packages\\optuna\\distributions.py:668: UserWarning: The distribution is specified by [1, 8] and step=2, but the range is not divisible by `step`. It will be replaced by [1, 7.0].\n",
      "  warnings.warn(\n",
      "\u001b[32m[I 2022-09-24 16:03:27,763]\u001b[0m Trial 62 finished with value: 0.7125181950509462 and parameters: {'n_estimators': 1910.0, 'max_features': 'sqrt', 'max_depth': 720.0, 'min_samples_split': 14.0, 'min_samples_leaf': 1.0, 'criterion': 'gini'}. Best is trial 58 with value: 0.7129184861717613.\u001b[0m\n",
      "D:\\Machine Learning Projects\\tweet_sentiment_analysis\\env\\lib\\site-packages\\optuna\\distributions.py:668: UserWarning: The distribution is specified by [1, 8] and step=2, but the range is not divisible by `step`. It will be replaced by [1, 7.0].\n",
      "  warnings.warn(\n",
      "\u001b[32m[I 2022-09-24 16:05:37,237]\u001b[0m Trial 63 finished with value: 0.7122998544395923 and parameters: {'n_estimators': 1900.0, 'max_features': 'sqrt', 'max_depth': 780.0, 'min_samples_split': 14.0, 'min_samples_leaf': 1.0, 'criterion': 'gini'}. Best is trial 58 with value: 0.7129184861717613.\u001b[0m\n",
      "D:\\Machine Learning Projects\\tweet_sentiment_analysis\\env\\lib\\site-packages\\optuna\\distributions.py:668: UserWarning: The distribution is specified by [1, 8] and step=2, but the range is not divisible by `step`. It will be replaced by [1, 7.0].\n",
      "  warnings.warn(\n",
      "\u001b[32m[I 2022-09-24 16:07:46,312]\u001b[0m Trial 64 finished with value: 0.7131732168850072 and parameters: {'n_estimators': 1910.0, 'max_features': 'sqrt', 'max_depth': 740.0, 'min_samples_split': 14.0, 'min_samples_leaf': 1.0, 'criterion': 'gini'}. Best is trial 64 with value: 0.7131732168850072.\u001b[0m\n",
      "D:\\Machine Learning Projects\\tweet_sentiment_analysis\\env\\lib\\site-packages\\optuna\\distributions.py:668: UserWarning: The distribution is specified by [1, 8] and step=2, but the range is not divisible by `step`. It will be replaced by [1, 7.0].\n",
      "  warnings.warn(\n",
      "\u001b[32m[I 2022-09-24 16:09:54,069]\u001b[0m Trial 65 finished with value: 0.7123362445414848 and parameters: {'n_estimators': 1900.0, 'max_features': 'sqrt', 'max_depth': 720.0, 'min_samples_split': 14.0, 'min_samples_leaf': 1.0, 'criterion': 'gini'}. Best is trial 64 with value: 0.7131732168850072.\u001b[0m\n",
      "D:\\Machine Learning Projects\\tweet_sentiment_analysis\\env\\lib\\site-packages\\optuna\\distributions.py:668: UserWarning: The distribution is specified by [1, 8] and step=2, but the range is not divisible by `step`. It will be replaced by [1, 7.0].\n",
      "  warnings.warn(\n",
      "\u001b[32m[I 2022-09-24 16:12:05,296]\u001b[0m Trial 66 finished with value: 0.7091703056768558 and parameters: {'n_estimators': 1920.0, 'max_features': 'sqrt', 'max_depth': 750.0, 'min_samples_split': 14.0, 'min_samples_leaf': 1.0, 'criterion': 'log_loss'}. Best is trial 64 with value: 0.7131732168850072.\u001b[0m\n",
      "D:\\Machine Learning Projects\\tweet_sentiment_analysis\\env\\lib\\site-packages\\optuna\\distributions.py:668: UserWarning: The distribution is specified by [1, 8] and step=2, but the range is not divisible by `step`. It will be replaced by [1, 7.0].\n",
      "  warnings.warn(\n",
      "\u001b[32m[I 2022-09-24 16:13:01,568]\u001b[0m Trial 67 finished with value: 0.7121542940320232 and parameters: {'n_estimators': 830.0, 'max_features': 'sqrt', 'max_depth': 710.0, 'min_samples_split': 14.0, 'min_samples_leaf': 1.0, 'criterion': 'gini'}. Best is trial 64 with value: 0.7131732168850072.\u001b[0m\n",
      "D:\\Machine Learning Projects\\tweet_sentiment_analysis\\env\\lib\\site-packages\\optuna\\distributions.py:668: UserWarning: The distribution is specified by [1, 8] and step=2, but the range is not divisible by `step`. It will be replaced by [1, 7.0].\n",
      "  warnings.warn(\n",
      "\u001b[32m[I 2022-09-24 16:13:51,128]\u001b[0m Trial 68 finished with value: 0.709425036390102 and parameters: {'n_estimators': 1880.0, 'max_features': 'sqrt', 'max_depth': 730.0, 'min_samples_split': 14.0, 'min_samples_leaf': 3.0, 'criterion': 'gini'}. Best is trial 64 with value: 0.7131732168850072.\u001b[0m\n",
      "D:\\Machine Learning Projects\\tweet_sentiment_analysis\\env\\lib\\site-packages\\optuna\\distributions.py:668: UserWarning: The distribution is specified by [1, 8] and step=2, but the range is not divisible by `step`. It will be replaced by [1, 7.0].\n",
      "  warnings.warn(\n",
      "\u001b[32m[I 2022-09-24 16:15:52,801]\u001b[0m Trial 69 finished with value: 0.7122634643377 and parameters: {'n_estimators': 1800.0, 'max_features': 'sqrt', 'max_depth': 790.0, 'min_samples_split': 14.0, 'min_samples_leaf': 1.0, 'criterion': 'gini'}. Best is trial 64 with value: 0.7131732168850072.\u001b[0m\n",
      "D:\\Machine Learning Projects\\tweet_sentiment_analysis\\env\\lib\\site-packages\\optuna\\distributions.py:668: UserWarning: The distribution is specified by [1, 8] and step=2, but the range is not divisible by `step`. It will be replaced by [1, 7.0].\n",
      "  warnings.warn(\n",
      "\u001b[32m[I 2022-09-24 16:17:51,575]\u001b[0m Trial 70 finished with value: 0.7099708879184862 and parameters: {'n_estimators': 1710.0, 'max_features': 'sqrt', 'max_depth': 720.0, 'min_samples_split': 14.0, 'min_samples_leaf': 1.0, 'criterion': 'entropy'}. Best is trial 64 with value: 0.7131732168850072.\u001b[0m\n",
      "D:\\Machine Learning Projects\\tweet_sentiment_analysis\\env\\lib\\site-packages\\optuna\\distributions.py:668: UserWarning: The distribution is specified by [1, 8] and step=2, but the range is not divisible by `step`. It will be replaced by [1, 7.0].\n",
      "  warnings.warn(\n",
      "\u001b[32m[I 2022-09-24 16:20:00,396]\u001b[0m Trial 71 finished with value: 0.7117540029112082 and parameters: {'n_estimators': 1900.0, 'max_features': 'sqrt', 'max_depth': 790.0, 'min_samples_split': 14.0, 'min_samples_leaf': 1.0, 'criterion': 'gini'}. Best is trial 64 with value: 0.7131732168850072.\u001b[0m\n",
      "D:\\Machine Learning Projects\\tweet_sentiment_analysis\\env\\lib\\site-packages\\optuna\\distributions.py:668: UserWarning: The distribution is specified by [1, 8] and step=2, but the range is not divisible by `step`. It will be replaced by [1, 7.0].\n",
      "  warnings.warn(\n",
      "\u001b[32m[I 2022-09-24 16:22:12,787]\u001b[0m Trial 72 finished with value: 0.7125909752547307 and parameters: {'n_estimators': 1930.0, 'max_features': 'sqrt', 'max_depth': 630.0, 'min_samples_split': 14.0, 'min_samples_leaf': 1.0, 'criterion': 'gini'}. Best is trial 64 with value: 0.7131732168850072.\u001b[0m\n",
      "D:\\Machine Learning Projects\\tweet_sentiment_analysis\\env\\lib\\site-packages\\optuna\\distributions.py:668: UserWarning: The distribution is specified by [1, 8] and step=2, but the range is not divisible by `step`. It will be replaced by [1, 7.0].\n",
      "  warnings.warn(\n",
      "\u001b[32m[I 2022-09-24 16:24:27,298]\u001b[0m Trial 73 finished with value: 0.713136826783115 and parameters: {'n_estimators': 1950.0, 'max_features': 'sqrt', 'max_depth': 630.0, 'min_samples_split': 14.0, 'min_samples_leaf': 1.0, 'criterion': 'gini'}. Best is trial 64 with value: 0.7131732168850072.\u001b[0m\n",
      "D:\\Machine Learning Projects\\tweet_sentiment_analysis\\env\\lib\\site-packages\\optuna\\distributions.py:668: UserWarning: The distribution is specified by [1, 8] and step=2, but the range is not divisible by `step`. It will be replaced by [1, 7.0].\n",
      "  warnings.warn(\n"
     ]
    },
    {
     "name": "stderr",
     "output_type": "stream",
     "text": [
      "\u001b[32m[I 2022-09-24 16:32:48,866]\u001b[0m Trial 74 finished with value: 0.7114992721979622 and parameters: {'n_estimators': 1940.0, 'max_features': 'sqrt', 'max_depth': 470.0, 'min_samples_split': 14.0, 'min_samples_leaf': 1.0, 'criterion': 'gini'}. Best is trial 64 with value: 0.7131732168850072.\u001b[0m\n",
      "D:\\Machine Learning Projects\\tweet_sentiment_analysis\\env\\lib\\site-packages\\optuna\\distributions.py:668: UserWarning: The distribution is specified by [1, 8] and step=2, but the range is not divisible by `step`. It will be replaced by [1, 7.0].\n",
      "  warnings.warn(\n",
      "\u001b[32m[I 2022-09-24 16:35:28,350]\u001b[0m Trial 75 finished with value: 0.7113537117903931 and parameters: {'n_estimators': 520.0, 'max_features': 'sqrt', 'max_depth': 630.0, 'min_samples_split': 14.0, 'min_samples_leaf': 1.0, 'criterion': 'gini'}. Best is trial 64 with value: 0.7131732168850072.\u001b[0m\n",
      "D:\\Machine Learning Projects\\tweet_sentiment_analysis\\env\\lib\\site-packages\\optuna\\distributions.py:668: UserWarning: The distribution is specified by [1, 8] and step=2, but the range is not divisible by `step`. It will be replaced by [1, 7.0].\n",
      "  warnings.warn(\n",
      "\u001b[32m[I 2022-09-24 16:36:39,037]\u001b[0m Trial 76 finished with value: 0.7107350800582242 and parameters: {'n_estimators': 230.0, 'max_features': 'sqrt', 'max_depth': 550.0, 'min_samples_split': 14.0, 'min_samples_leaf': 1.0, 'criterion': 'gini'}. Best is trial 64 with value: 0.7131732168850072.\u001b[0m\n",
      "D:\\Machine Learning Projects\\tweet_sentiment_analysis\\env\\lib\\site-packages\\optuna\\distributions.py:668: UserWarning: The distribution is specified by [1, 8] and step=2, but the range is not divisible by `step`. It will be replaced by [1, 7.0].\n",
      "  warnings.warn(\n",
      "\u001b[32m[I 2022-09-24 16:46:25,678]\u001b[0m Trial 77 finished with value: 0.7113537117903931 and parameters: {'n_estimators': 1790.0, 'max_features': 'sqrt', 'max_depth': 620.0, 'min_samples_split': 11.0, 'min_samples_leaf': 1.0, 'criterion': 'gini'}. Best is trial 64 with value: 0.7131732168850072.\u001b[0m\n",
      "D:\\Machine Learning Projects\\tweet_sentiment_analysis\\env\\lib\\site-packages\\optuna\\distributions.py:668: UserWarning: The distribution is specified by [1, 8] and step=2, but the range is not divisible by `step`. It will be replaced by [1, 7.0].\n",
      "  warnings.warn(\n",
      "\u001b[32m[I 2022-09-24 16:49:53,741]\u001b[0m Trial 78 finished with value: 0.6969796215429404 and parameters: {'n_estimators': 1950.0, 'max_features': 'sqrt', 'max_depth': 490.0, 'min_samples_split': 14.0, 'min_samples_leaf': 7.0, 'criterion': 'gini'}. Best is trial 64 with value: 0.7131732168850072.\u001b[0m\n",
      "D:\\Machine Learning Projects\\tweet_sentiment_analysis\\env\\lib\\site-packages\\optuna\\distributions.py:668: UserWarning: The distribution is specified by [1, 8] and step=2, but the range is not divisible by `step`. It will be replaced by [1, 7.0].\n",
      "  warnings.warn(\n",
      "\u001b[32m[I 2022-09-24 16:59:35,959]\u001b[0m Trial 79 finished with value: 0.7094250363901019 and parameters: {'n_estimators': 1870.0, 'max_features': 'sqrt', 'max_depth': 660.0, 'min_samples_split': 14.0, 'min_samples_leaf': 1.0, 'criterion': 'log_loss'}. Best is trial 64 with value: 0.7131732168850072.\u001b[0m\n",
      "D:\\Machine Learning Projects\\tweet_sentiment_analysis\\env\\lib\\site-packages\\optuna\\distributions.py:668: UserWarning: The distribution is specified by [1, 8] and step=2, but the range is not divisible by `step`. It will be replaced by [1, 7.0].\n",
      "  warnings.warn(\n",
      "\u001b[32m[I 2022-09-24 17:09:21,570]\u001b[0m Trial 80 finished with value: 0.7127001455604076 and parameters: {'n_estimators': 1770.0, 'max_features': 'sqrt', 'max_depth': 750.0, 'min_samples_split': 11.0, 'min_samples_leaf': 1.0, 'criterion': 'gini'}. Best is trial 64 with value: 0.7131732168850072.\u001b[0m\n",
      "D:\\Machine Learning Projects\\tweet_sentiment_analysis\\env\\lib\\site-packages\\optuna\\distributions.py:668: UserWarning: The distribution is specified by [1, 8] and step=2, but the range is not divisible by `step`. It will be replaced by [1, 7.0].\n",
      "  warnings.warn(\n",
      "\u001b[32m[I 2022-09-24 17:19:36,787]\u001b[0m Trial 81 finished with value: 0.7117540029112082 and parameters: {'n_estimators': 1860.0, 'max_features': 'sqrt', 'max_depth': 750.0, 'min_samples_split': 11.0, 'min_samples_leaf': 1.0, 'criterion': 'gini'}. Best is trial 64 with value: 0.7131732168850072.\u001b[0m\n",
      "D:\\Machine Learning Projects\\tweet_sentiment_analysis\\env\\lib\\site-packages\\optuna\\distributions.py:668: UserWarning: The distribution is specified by [1, 8] and step=2, but the range is not divisible by `step`. It will be replaced by [1, 7.0].\n",
      "  warnings.warn(\n",
      "\u001b[32m[I 2022-09-24 17:28:21,584]\u001b[0m Trial 82 finished with value: 0.712117903930131 and parameters: {'n_estimators': 1740.0, 'max_features': 'sqrt', 'max_depth': 620.0, 'min_samples_split': 14.0, 'min_samples_leaf': 1.0, 'criterion': 'gini'}. Best is trial 64 with value: 0.7131732168850072.\u001b[0m\n",
      "D:\\Machine Learning Projects\\tweet_sentiment_analysis\\env\\lib\\site-packages\\optuna\\distributions.py:668: UserWarning: The distribution is specified by [1, 8] and step=2, but the range is not divisible by `step`. It will be replaced by [1, 7.0].\n",
      "  warnings.warn(\n",
      "\u001b[32m[I 2022-09-24 17:38:37,615]\u001b[0m Trial 83 finished with value: 0.7119723435225619 and parameters: {'n_estimators': 1960.0, 'max_features': 'sqrt', 'max_depth': 880.0, 'min_samples_split': 14.0, 'min_samples_leaf': 1.0, 'criterion': 'gini'}. Best is trial 64 with value: 0.7131732168850072.\u001b[0m\n",
      "D:\\Machine Learning Projects\\tweet_sentiment_analysis\\env\\lib\\site-packages\\optuna\\distributions.py:668: UserWarning: The distribution is specified by [1, 8] and step=2, but the range is not divisible by `step`. It will be replaced by [1, 7.0].\n",
      "  warnings.warn(\n",
      "\u001b[32m[I 2022-09-24 17:42:06,197]\u001b[0m Trial 84 finished with value: 0.7030203784570596 and parameters: {'n_estimators': 1760.0, 'max_features': 'sqrt', 'max_depth': 540.0, 'min_samples_split': 11.0, 'min_samples_leaf': 5.0, 'criterion': 'gini'}. Best is trial 64 with value: 0.7131732168850072.\u001b[0m\n",
      "D:\\Machine Learning Projects\\tweet_sentiment_analysis\\env\\lib\\site-packages\\optuna\\distributions.py:668: UserWarning: The distribution is specified by [1, 8] and step=2, but the range is not divisible by `step`. It will be replaced by [1, 7.0].\n",
      "  warnings.warn(\n",
      "\u001b[32m[I 2022-09-24 17:50:45,900]\u001b[0m Trial 85 finished with value: 0.7089155749636099 and parameters: {'n_estimators': 1800.0, 'max_features': 'sqrt', 'max_depth': 370.0, 'min_samples_split': 14.0, 'min_samples_leaf': 1.0, 'criterion': 'gini'}. Best is trial 64 with value: 0.7131732168850072.\u001b[0m\n",
      "D:\\Machine Learning Projects\\tweet_sentiment_analysis\\env\\lib\\site-packages\\optuna\\distributions.py:668: UserWarning: The distribution is specified by [1, 8] and step=2, but the range is not divisible by `step`. It will be replaced by [1, 7.0].\n",
      "  warnings.warn(\n",
      "\u001b[32m[I 2022-09-24 17:59:55,588]\u001b[0m Trial 86 finished with value: 0.7129912663755459 and parameters: {'n_estimators': 1680.0, 'max_features': 'sqrt', 'max_depth': 690.0, 'min_samples_split': 11.0, 'min_samples_leaf': 1.0, 'criterion': 'gini'}. Best is trial 64 with value: 0.7131732168850072.\u001b[0m\n",
      "D:\\Machine Learning Projects\\tweet_sentiment_analysis\\env\\lib\\site-packages\\optuna\\distributions.py:668: UserWarning: The distribution is specified by [1, 8] and step=2, but the range is not divisible by `step`. It will be replaced by [1, 7.0].\n",
      "  warnings.warn(\n",
      "\u001b[32m[I 2022-09-24 18:08:45,117]\u001b[0m Trial 87 finished with value: 0.7094978165938864 and parameters: {'n_estimators': 1700.0, 'max_features': 'sqrt', 'max_depth': 690.0, 'min_samples_split': 14.0, 'min_samples_leaf': 1.0, 'criterion': 'entropy'}. Best is trial 64 with value: 0.7131732168850072.\u001b[0m\n",
      "D:\\Machine Learning Projects\\tweet_sentiment_analysis\\env\\lib\\site-packages\\optuna\\distributions.py:668: UserWarning: The distribution is specified by [1, 8] and step=2, but the range is not divisible by `step`. It will be replaced by [1, 7.0].\n",
      "  warnings.warn(\n",
      "\u001b[32m[I 2022-09-24 18:15:37,042]\u001b[0m Trial 88 finished with value: 0.6986535662299854 and parameters: {'n_estimators': 1670.0, 'max_features': 'log2', 'max_depth': 650.0, 'min_samples_split': 14.0, 'min_samples_leaf': 1.0, 'criterion': 'gini'}. Best is trial 64 with value: 0.7131732168850072.\u001b[0m\n",
      "D:\\Machine Learning Projects\\tweet_sentiment_analysis\\env\\lib\\site-packages\\optuna\\distributions.py:668: UserWarning: The distribution is specified by [1, 8] and step=2, but the range is not divisible by `step`. It will be replaced by [1, 7.0].\n",
      "  warnings.warn(\n"
     ]
    },
    {
     "name": "stderr",
     "output_type": "stream",
     "text": [
      "\u001b[32m[I 2022-09-24 18:25:14,197]\u001b[0m Trial 89 finished with value: 0.713027656477438 and parameters: {'n_estimators': 1850.0, 'max_features': 'sqrt', 'max_depth': 730.0, 'min_samples_split': 14.0, 'min_samples_leaf': 1.0, 'criterion': 'gini'}. Best is trial 64 with value: 0.7131732168850072.\u001b[0m\n",
      "D:\\Machine Learning Projects\\tweet_sentiment_analysis\\env\\lib\\site-packages\\optuna\\distributions.py:668: UserWarning: The distribution is specified by [1, 8] and step=2, but the range is not divisible by `step`. It will be replaced by [1, 7.0].\n",
      "  warnings.warn(\n",
      "\u001b[32m[I 2022-09-24 18:35:16,496]\u001b[0m Trial 90 finished with value: 0.7117176128093158 and parameters: {'n_estimators': 1840.0, 'max_features': 'sqrt', 'max_depth': 600.0, 'min_samples_split': 11.0, 'min_samples_leaf': 1.0, 'criterion': 'gini'}. Best is trial 64 with value: 0.7131732168850072.\u001b[0m\n",
      "D:\\Machine Learning Projects\\tweet_sentiment_analysis\\env\\lib\\site-packages\\optuna\\distributions.py:668: UserWarning: The distribution is specified by [1, 8] and step=2, but the range is not divisible by `step`. It will be replaced by [1, 7.0].\n",
      "  warnings.warn(\n",
      "\u001b[32m[I 2022-09-24 18:45:04,698]\u001b[0m Trial 91 finished with value: 0.7124818049490539 and parameters: {'n_estimators': 1910.0, 'max_features': 'sqrt', 'max_depth': 700.0, 'min_samples_split': 14.0, 'min_samples_leaf': 1.0, 'criterion': 'gini'}. Best is trial 64 with value: 0.7131732168850072.\u001b[0m\n",
      "D:\\Machine Learning Projects\\tweet_sentiment_analysis\\env\\lib\\site-packages\\optuna\\distributions.py:668: UserWarning: The distribution is specified by [1, 8] and step=2, but the range is not divisible by `step`. It will be replaced by [1, 7.0].\n",
      "  warnings.warn(\n",
      "\u001b[32m[I 2022-09-24 18:52:15,789]\u001b[0m Trial 92 finished with value: 0.7126637554585153 and parameters: {'n_estimators': 1950.0, 'max_features': 'sqrt', 'max_depth': 750.0, 'min_samples_split': 14.0, 'min_samples_leaf': 1.0, 'criterion': 'gini'}. Best is trial 64 with value: 0.7131732168850072.\u001b[0m\n",
      "D:\\Machine Learning Projects\\tweet_sentiment_analysis\\env\\lib\\site-packages\\optuna\\distributions.py:668: UserWarning: The distribution is specified by [1, 8] and step=2, but the range is not divisible by `step`. It will be replaced by [1, 7.0].\n",
      "  warnings.warn(\n",
      "\u001b[32m[I 2022-09-24 18:54:16,807]\u001b[0m Trial 93 finished with value: 0.7125909752547307 and parameters: {'n_estimators': 1950.0, 'max_features': 'sqrt', 'max_depth': 760.0, 'min_samples_split': 14.0, 'min_samples_leaf': 1.0, 'criterion': 'gini'}. Best is trial 64 with value: 0.7131732168850072.\u001b[0m\n",
      "D:\\Machine Learning Projects\\tweet_sentiment_analysis\\env\\lib\\site-packages\\optuna\\distributions.py:668: UserWarning: The distribution is specified by [1, 8] and step=2, but the range is not divisible by `step`. It will be replaced by [1, 7.0].\n",
      "  warnings.warn(\n",
      "\u001b[32m[I 2022-09-24 18:56:15,963]\u001b[0m Trial 94 finished with value: 0.7124454148471616 and parameters: {'n_estimators': 1860.0, 'max_features': 'sqrt', 'max_depth': 760.0, 'min_samples_split': 14.0, 'min_samples_leaf': 1.0, 'criterion': 'gini'}. Best is trial 64 with value: 0.7131732168850072.\u001b[0m\n",
      "D:\\Machine Learning Projects\\tweet_sentiment_analysis\\env\\lib\\site-packages\\optuna\\distributions.py:668: UserWarning: The distribution is specified by [1, 8] and step=2, but the range is not divisible by `step`. It will be replaced by [1, 7.0].\n",
      "  warnings.warn(\n",
      "\u001b[32m[I 2022-09-24 18:58:13,714]\u001b[0m Trial 95 finished with value: 0.7123726346433771 and parameters: {'n_estimators': 1810.0, 'max_features': 'sqrt', 'max_depth': 670.0, 'min_samples_split': 14.0, 'min_samples_leaf': 1.0, 'criterion': 'gini'}. Best is trial 64 with value: 0.7131732168850072.\u001b[0m\n",
      "D:\\Machine Learning Projects\\tweet_sentiment_analysis\\env\\lib\\site-packages\\optuna\\distributions.py:668: UserWarning: The distribution is specified by [1, 8] and step=2, but the range is not divisible by `step`. It will be replaced by [1, 7.0].\n",
      "  warnings.warn(\n",
      "\u001b[32m[I 2022-09-24 19:00:29,400]\u001b[0m Trial 96 finished with value: 0.7121542940320232 and parameters: {'n_estimators': 2000.0, 'max_features': 'sqrt', 'max_depth': 800.0, 'min_samples_split': 14.0, 'min_samples_leaf': 1.0, 'criterion': 'gini'}. Best is trial 64 with value: 0.7131732168850072.\u001b[0m\n",
      "D:\\Machine Learning Projects\\tweet_sentiment_analysis\\env\\lib\\site-packages\\optuna\\distributions.py:668: UserWarning: The distribution is specified by [1, 8] and step=2, but the range is not divisible by `step`. It will be replaced by [1, 7.0].\n",
      "  warnings.warn(\n",
      "\u001b[32m[I 2022-09-24 19:01:33,980]\u001b[0m Trial 97 finished with value: 0.7125545851528384 and parameters: {'n_estimators': 980.0, 'max_features': 'sqrt', 'max_depth': 740.0, 'min_samples_split': 14.0, 'min_samples_leaf': 1.0, 'criterion': 'gini'}. Best is trial 64 with value: 0.7131732168850072.\u001b[0m\n",
      "D:\\Machine Learning Projects\\tweet_sentiment_analysis\\env\\lib\\site-packages\\optuna\\distributions.py:668: UserWarning: The distribution is specified by [1, 8] and step=2, but the range is not divisible by `step`. It will be replaced by [1, 7.0].\n",
      "  warnings.warn(\n",
      "\u001b[32m[I 2022-09-24 19:03:54,681]\u001b[0m Trial 98 finished with value: 0.7120451237263464 and parameters: {'n_estimators': 1960.0, 'max_features': 'sqrt', 'max_depth': 770.0, 'min_samples_split': 11.0, 'min_samples_leaf': 1.0, 'criterion': 'gini'}. Best is trial 64 with value: 0.7131732168850072.\u001b[0m\n",
      "D:\\Machine Learning Projects\\tweet_sentiment_analysis\\env\\lib\\site-packages\\optuna\\distributions.py:668: UserWarning: The distribution is specified by [1, 8] and step=2, but the range is not divisible by `step`. It will be replaced by [1, 7.0].\n",
      "  warnings.warn(\n",
      "\u001b[32m[I 2022-09-24 19:04:07,089]\u001b[0m Trial 99 finished with value: 0.5026564774381368 and parameters: {'n_estimators': 1770.0, 'max_features': 'log2', 'max_depth': 700.0, 'min_samples_split': 14.0, 'min_samples_leaf': 3.0, 'criterion': 'log_loss'}. Best is trial 64 with value: 0.7131732168850072.\u001b[0m\n"
     ]
    },
    {
     "name": "stdout",
     "output_type": "stream",
     "text": [
      "Accuracy: 0.7131732168850072\n",
      "Best hyperparameters: {'n_estimators': 1910.0, 'max_features': 'sqrt', 'max_depth': 740.0, 'min_samples_split': 14.0, 'min_samples_leaf': 1.0, 'criterion': 'gini'}\n"
     ]
    },
    {
     "data": {
      "application/javascript": [
       "$(document).ready(\n",
       "    function() {\n",
       "        function appendUniqueDiv(){\n",
       "            // append a div with our uuid so we can check that it's already\n",
       "            // been sent and avoid duplicates on page reload\n",
       "            var notifiedDiv = document.createElement(\"div\")\n",
       "            notifiedDiv.id = \"44b11229-72f5-4a2c-adbc-c9d4accf0815\"\n",
       "            element.append(notifiedDiv)\n",
       "        }\n",
       "\n",
       "        // only send notifications if the pageload is complete; this will\n",
       "        // help stop extra notifications when a saved notebook is loaded,\n",
       "        // which during testing gives us state \"interactive\", not \"complete\"\n",
       "        if (document.readyState === 'complete') {\n",
       "            // check for the div that signifies that the notification\n",
       "            // was already sent\n",
       "            if (document.getElementById(\"44b11229-72f5-4a2c-adbc-c9d4accf0815\") === null) {\n",
       "                var notificationPayload = {\"requireInteraction\": false, \"icon\": \"/static/base/images/favicon.ico\", \"body\": \"Cell execution has finished!\"};\n",
       "                if (Notification.permission !== 'denied') {\n",
       "                    if (Notification.permission !== 'granted') { \n",
       "                        Notification.requestPermission(function (permission) {\n",
       "                            if(!('permission' in Notification)) {\n",
       "                                Notification.permission = permission\n",
       "                            }\n",
       "                        })\n",
       "                    }\n",
       "                    if (Notification.permission === 'granted') {\n",
       "                    var notification = new Notification(\"Jupyter Notebook\", notificationPayload)\n",
       "                    appendUniqueDiv()\n",
       "                    notification.onclick = function () {\n",
       "                        window.focus();\n",
       "                        this.close();\n",
       "                        };\n",
       "                    } \n",
       "                }     \n",
       "            }\n",
       "        }\n",
       "    }\n",
       ")\n"
      ],
      "text/plain": [
       "<IPython.core.display.Javascript object>"
      ]
     },
     "metadata": {},
     "output_type": "display_data"
    }
   ],
   "source": [
    "%%notify\n",
    "decision_function_shape = []\n",
    "# the goal is to maximize the accuracy, hence the direction\n",
    "study = optuna.create_study(direction='maximize')\n",
    "# we will perform 100 trials\n",
    "study.optimize(objective, n_trials=100)\n",
    "\n",
    "# retrieving the best trial\n",
    "trial = study.best_trial\n",
    "# Displaying outputs\n",
    "print('Accuracy: {}'.format(trial.value))\n",
    "print(\"Best hyperparameters: {}\".format(trial.params))"
   ]
  },
  {
   "cell_type": "markdown",
   "id": "6b9d130f",
   "metadata": {},
   "source": [
    "The tuning on `LogisticRegression` gave us the accuracy of 0.6916666666666668 with the best parameters being:\n",
    "\n",
    "{\n",
    "'logreg_c': 0.31430173665858063, \n",
    "\n",
    "'max_iter': 4230.062049823412\n",
    "}"
   ]
  },
  {
   "cell_type": "markdown",
   "id": "073e5694",
   "metadata": {},
   "source": [
    "The tuning on `RandomForestClassifier` gave us the accuracy of 0.7131732168850072 with the best parameters being:\n",
    "\n",
    "{\n",
    "'n_estimators': 1910.0,\n",
    "\n",
    "'max_features': 'sqrt',\n",
    "\n",
    "'max_depth': 740.0, \n",
    "\n",
    "'min_samples_split': 14.0, \n",
    "\n",
    "'min_samples_leaf': 1.0, \n",
    "\n",
    "'criterion': 'gini'\n",
    "}"
   ]
  },
  {
   "cell_type": "markdown",
   "id": "ed9fef60",
   "metadata": {},
   "source": [
    "Unfortunately, I was unable to perform the tuning on `SupportVectorClassifier` as it would not proceed beyond a trial or two for some unknown reason. Will have to check back on this later."
   ]
  },
  {
   "cell_type": "markdown",
   "id": "2e3d6439",
   "metadata": {},
   "source": [
    "Let us test our newly found tuned hyperparameters for `RandomForestClassifier`."
   ]
  },
  {
   "cell_type": "code",
   "execution_count": 25,
   "id": "97d94729",
   "metadata": {},
   "outputs": [],
   "source": [
    "rfc = RandomForestClassifier(n_estimators=1910,\n",
    "                             max_features='sqrt',\n",
    "                             max_depth=740,\n",
    "                             min_samples_split=14,\n",
    "                             min_samples_leaf=1,\n",
    "                             criterion='gini',\n",
    "                             n_jobs=-1)"
   ]
  },
  {
   "cell_type": "code",
   "execution_count": 26,
   "id": "4da7b860",
   "metadata": {},
   "outputs": [
    {
     "data": {
      "text/html": [
       "<style>#sk-container-id-1 {color: black;background-color: white;}#sk-container-id-1 pre{padding: 0;}#sk-container-id-1 div.sk-toggleable {background-color: white;}#sk-container-id-1 label.sk-toggleable__label {cursor: pointer;display: block;width: 100%;margin-bottom: 0;padding: 0.3em;box-sizing: border-box;text-align: center;}#sk-container-id-1 label.sk-toggleable__label-arrow:before {content: \"▸\";float: left;margin-right: 0.25em;color: #696969;}#sk-container-id-1 label.sk-toggleable__label-arrow:hover:before {color: black;}#sk-container-id-1 div.sk-estimator:hover label.sk-toggleable__label-arrow:before {color: black;}#sk-container-id-1 div.sk-toggleable__content {max-height: 0;max-width: 0;overflow: hidden;text-align: left;background-color: #f0f8ff;}#sk-container-id-1 div.sk-toggleable__content pre {margin: 0.2em;color: black;border-radius: 0.25em;background-color: #f0f8ff;}#sk-container-id-1 input.sk-toggleable__control:checked~div.sk-toggleable__content {max-height: 200px;max-width: 100%;overflow: auto;}#sk-container-id-1 input.sk-toggleable__control:checked~label.sk-toggleable__label-arrow:before {content: \"▾\";}#sk-container-id-1 div.sk-estimator input.sk-toggleable__control:checked~label.sk-toggleable__label {background-color: #d4ebff;}#sk-container-id-1 div.sk-label input.sk-toggleable__control:checked~label.sk-toggleable__label {background-color: #d4ebff;}#sk-container-id-1 input.sk-hidden--visually {border: 0;clip: rect(1px 1px 1px 1px);clip: rect(1px, 1px, 1px, 1px);height: 1px;margin: -1px;overflow: hidden;padding: 0;position: absolute;width: 1px;}#sk-container-id-1 div.sk-estimator {font-family: monospace;background-color: #f0f8ff;border: 1px dotted black;border-radius: 0.25em;box-sizing: border-box;margin-bottom: 0.5em;}#sk-container-id-1 div.sk-estimator:hover {background-color: #d4ebff;}#sk-container-id-1 div.sk-parallel-item::after {content: \"\";width: 100%;border-bottom: 1px solid gray;flex-grow: 1;}#sk-container-id-1 div.sk-label:hover label.sk-toggleable__label {background-color: #d4ebff;}#sk-container-id-1 div.sk-serial::before {content: \"\";position: absolute;border-left: 1px solid gray;box-sizing: border-box;top: 0;bottom: 0;left: 50%;z-index: 0;}#sk-container-id-1 div.sk-serial {display: flex;flex-direction: column;align-items: center;background-color: white;padding-right: 0.2em;padding-left: 0.2em;position: relative;}#sk-container-id-1 div.sk-item {position: relative;z-index: 1;}#sk-container-id-1 div.sk-parallel {display: flex;align-items: stretch;justify-content: center;background-color: white;position: relative;}#sk-container-id-1 div.sk-item::before, #sk-container-id-1 div.sk-parallel-item::before {content: \"\";position: absolute;border-left: 1px solid gray;box-sizing: border-box;top: 0;bottom: 0;left: 50%;z-index: -1;}#sk-container-id-1 div.sk-parallel-item {display: flex;flex-direction: column;z-index: 1;position: relative;background-color: white;}#sk-container-id-1 div.sk-parallel-item:first-child::after {align-self: flex-end;width: 50%;}#sk-container-id-1 div.sk-parallel-item:last-child::after {align-self: flex-start;width: 50%;}#sk-container-id-1 div.sk-parallel-item:only-child::after {width: 0;}#sk-container-id-1 div.sk-dashed-wrapped {border: 1px dashed gray;margin: 0 0.4em 0.5em 0.4em;box-sizing: border-box;padding-bottom: 0.4em;background-color: white;}#sk-container-id-1 div.sk-label label {font-family: monospace;font-weight: bold;display: inline-block;line-height: 1.2em;}#sk-container-id-1 div.sk-label-container {text-align: center;}#sk-container-id-1 div.sk-container {/* jupyter's `normalize.less` sets `[hidden] { display: none; }` but bootstrap.min.css set `[hidden] { display: none !important; }` so we also need the `!important` here to be able to override the default hidden behavior on the sphinx rendered scikit-learn.org. See: https://github.com/scikit-learn/scikit-learn/issues/21755 */display: inline-block !important;position: relative;}#sk-container-id-1 div.sk-text-repr-fallback {display: none;}</style><div id=\"sk-container-id-1\" class=\"sk-top-container\"><div class=\"sk-text-repr-fallback\"><pre>RandomForestClassifier(max_depth=740, min_samples_split=14, n_estimators=1910,\n",
       "                       n_jobs=3)</pre><b>In a Jupyter environment, please rerun this cell to show the HTML representation or trust the notebook. <br />On GitHub, the HTML representation is unable to render, please try loading this page with nbviewer.org.</b></div><div class=\"sk-container\" hidden><div class=\"sk-item\"><div class=\"sk-estimator sk-toggleable\"><input class=\"sk-toggleable__control sk-hidden--visually\" id=\"sk-estimator-id-1\" type=\"checkbox\" checked><label for=\"sk-estimator-id-1\" class=\"sk-toggleable__label sk-toggleable__label-arrow\">RandomForestClassifier</label><div class=\"sk-toggleable__content\"><pre>RandomForestClassifier(max_depth=740, min_samples_split=14, n_estimators=1910,\n",
       "                       n_jobs=3)</pre></div></div></div></div></div>"
      ],
      "text/plain": [
       "RandomForestClassifier(max_depth=740, min_samples_split=14, n_estimators=1910,\n",
       "                       n_jobs=3)"
      ]
     },
     "execution_count": 26,
     "metadata": {},
     "output_type": "execute_result"
    }
   ],
   "source": [
    "rfc.fit(X_train, y_train)"
   ]
  },
  {
   "cell_type": "code",
   "execution_count": 27,
   "id": "10f68048",
   "metadata": {},
   "outputs": [
    {
     "data": {
      "text/plain": [
       "0.7232597623089984"
      ]
     },
     "execution_count": 27,
     "metadata": {},
     "output_type": "execute_result"
    }
   ],
   "source": [
    "rfc.score(X_test, y_test)"
   ]
  },
  {
   "cell_type": "markdown",
   "id": "70e903a2",
   "metadata": {},
   "source": [
    "Great! Our model saw an increase of roughly 2% in accuracy with the tuned hyperparameters."
   ]
  },
  {
   "cell_type": "code",
   "execution_count": 28,
   "id": "29fa081b",
   "metadata": {},
   "outputs": [],
   "source": [
    "from sklearn.model_selection import GridSearchCV"
   ]
  },
  {
   "cell_type": "code",
   "execution_count": 29,
   "id": "97cfd599",
   "metadata": {},
   "outputs": [
    {
     "data": {
      "text/plain": [
       "{'criterion': ['gini'],\n",
       " 'max_depth': [740],\n",
       " 'max_features': ['sqrt'],\n",
       " 'min_samples_leaf': [1, 3, 5],\n",
       " 'min_samples_split': [12, 13, 14, 15, 16],\n",
       " 'n_estimators': [1710, 1810, 1910, 2010, 2110]}"
      ]
     },
     "execution_count": 29,
     "metadata": {},
     "output_type": "execute_result"
    }
   ],
   "source": [
    "param_grid = {\n",
    "    'criterion': ['gini'],\n",
    "    'max_depth': [740],\n",
    "    'max_features': ['sqrt'],\n",
    "    'min_samples_leaf': [1, 3, 5],\n",
    "    'min_samples_split': [12, 13, 14, 15, 16],\n",
    "    'n_estimators': [1710, 1810, 1910, 2010, 2110]\n",
    "}\n",
    "param_grid"
   ]
  },
  {
   "cell_type": "code",
   "execution_count": 30,
   "id": "2b5c9709",
   "metadata": {},
   "outputs": [
    {
     "name": "stdout",
     "output_type": "stream",
     "text": [
      "Fitting 5 folds for each of 75 candidates, totalling 375 fits\n"
     ]
    },
    {
     "data": {
      "text/html": [
       "<style>#sk-container-id-2 {color: black;background-color: white;}#sk-container-id-2 pre{padding: 0;}#sk-container-id-2 div.sk-toggleable {background-color: white;}#sk-container-id-2 label.sk-toggleable__label {cursor: pointer;display: block;width: 100%;margin-bottom: 0;padding: 0.3em;box-sizing: border-box;text-align: center;}#sk-container-id-2 label.sk-toggleable__label-arrow:before {content: \"▸\";float: left;margin-right: 0.25em;color: #696969;}#sk-container-id-2 label.sk-toggleable__label-arrow:hover:before {color: black;}#sk-container-id-2 div.sk-estimator:hover label.sk-toggleable__label-arrow:before {color: black;}#sk-container-id-2 div.sk-toggleable__content {max-height: 0;max-width: 0;overflow: hidden;text-align: left;background-color: #f0f8ff;}#sk-container-id-2 div.sk-toggleable__content pre {margin: 0.2em;color: black;border-radius: 0.25em;background-color: #f0f8ff;}#sk-container-id-2 input.sk-toggleable__control:checked~div.sk-toggleable__content {max-height: 200px;max-width: 100%;overflow: auto;}#sk-container-id-2 input.sk-toggleable__control:checked~label.sk-toggleable__label-arrow:before {content: \"▾\";}#sk-container-id-2 div.sk-estimator input.sk-toggleable__control:checked~label.sk-toggleable__label {background-color: #d4ebff;}#sk-container-id-2 div.sk-label input.sk-toggleable__control:checked~label.sk-toggleable__label {background-color: #d4ebff;}#sk-container-id-2 input.sk-hidden--visually {border: 0;clip: rect(1px 1px 1px 1px);clip: rect(1px, 1px, 1px, 1px);height: 1px;margin: -1px;overflow: hidden;padding: 0;position: absolute;width: 1px;}#sk-container-id-2 div.sk-estimator {font-family: monospace;background-color: #f0f8ff;border: 1px dotted black;border-radius: 0.25em;box-sizing: border-box;margin-bottom: 0.5em;}#sk-container-id-2 div.sk-estimator:hover {background-color: #d4ebff;}#sk-container-id-2 div.sk-parallel-item::after {content: \"\";width: 100%;border-bottom: 1px solid gray;flex-grow: 1;}#sk-container-id-2 div.sk-label:hover label.sk-toggleable__label {background-color: #d4ebff;}#sk-container-id-2 div.sk-serial::before {content: \"\";position: absolute;border-left: 1px solid gray;box-sizing: border-box;top: 0;bottom: 0;left: 50%;z-index: 0;}#sk-container-id-2 div.sk-serial {display: flex;flex-direction: column;align-items: center;background-color: white;padding-right: 0.2em;padding-left: 0.2em;position: relative;}#sk-container-id-2 div.sk-item {position: relative;z-index: 1;}#sk-container-id-2 div.sk-parallel {display: flex;align-items: stretch;justify-content: center;background-color: white;position: relative;}#sk-container-id-2 div.sk-item::before, #sk-container-id-2 div.sk-parallel-item::before {content: \"\";position: absolute;border-left: 1px solid gray;box-sizing: border-box;top: 0;bottom: 0;left: 50%;z-index: -1;}#sk-container-id-2 div.sk-parallel-item {display: flex;flex-direction: column;z-index: 1;position: relative;background-color: white;}#sk-container-id-2 div.sk-parallel-item:first-child::after {align-self: flex-end;width: 50%;}#sk-container-id-2 div.sk-parallel-item:last-child::after {align-self: flex-start;width: 50%;}#sk-container-id-2 div.sk-parallel-item:only-child::after {width: 0;}#sk-container-id-2 div.sk-dashed-wrapped {border: 1px dashed gray;margin: 0 0.4em 0.5em 0.4em;box-sizing: border-box;padding-bottom: 0.4em;background-color: white;}#sk-container-id-2 div.sk-label label {font-family: monospace;font-weight: bold;display: inline-block;line-height: 1.2em;}#sk-container-id-2 div.sk-label-container {text-align: center;}#sk-container-id-2 div.sk-container {/* jupyter's `normalize.less` sets `[hidden] { display: none; }` but bootstrap.min.css set `[hidden] { display: none !important; }` so we also need the `!important` here to be able to override the default hidden behavior on the sphinx rendered scikit-learn.org. See: https://github.com/scikit-learn/scikit-learn/issues/21755 */display: inline-block !important;position: relative;}#sk-container-id-2 div.sk-text-repr-fallback {display: none;}</style><div id=\"sk-container-id-2\" class=\"sk-top-container\"><div class=\"sk-text-repr-fallback\"><pre>GridSearchCV(cv=5, estimator=RandomForestClassifier(), n_jobs=8,\n",
       "             param_grid={&#x27;criterion&#x27;: [&#x27;gini&#x27;], &#x27;max_depth&#x27;: [740],\n",
       "                         &#x27;max_features&#x27;: [&#x27;sqrt&#x27;],\n",
       "                         &#x27;min_samples_leaf&#x27;: [1, 3, 5],\n",
       "                         &#x27;min_samples_split&#x27;: [12, 13, 14, 15, 16],\n",
       "                         &#x27;n_estimators&#x27;: [1710, 1810, 1910, 2010, 2110]},\n",
       "             verbose=2)</pre><b>In a Jupyter environment, please rerun this cell to show the HTML representation or trust the notebook. <br />On GitHub, the HTML representation is unable to render, please try loading this page with nbviewer.org.</b></div><div class=\"sk-container\" hidden><div class=\"sk-item sk-dashed-wrapped\"><div class=\"sk-label-container\"><div class=\"sk-label sk-toggleable\"><input class=\"sk-toggleable__control sk-hidden--visually\" id=\"sk-estimator-id-2\" type=\"checkbox\" ><label for=\"sk-estimator-id-2\" class=\"sk-toggleable__label sk-toggleable__label-arrow\">GridSearchCV</label><div class=\"sk-toggleable__content\"><pre>GridSearchCV(cv=5, estimator=RandomForestClassifier(), n_jobs=8,\n",
       "             param_grid={&#x27;criterion&#x27;: [&#x27;gini&#x27;], &#x27;max_depth&#x27;: [740],\n",
       "                         &#x27;max_features&#x27;: [&#x27;sqrt&#x27;],\n",
       "                         &#x27;min_samples_leaf&#x27;: [1, 3, 5],\n",
       "                         &#x27;min_samples_split&#x27;: [12, 13, 14, 15, 16],\n",
       "                         &#x27;n_estimators&#x27;: [1710, 1810, 1910, 2010, 2110]},\n",
       "             verbose=2)</pre></div></div></div><div class=\"sk-parallel\"><div class=\"sk-parallel-item\"><div class=\"sk-item\"><div class=\"sk-label-container\"><div class=\"sk-label sk-toggleable\"><input class=\"sk-toggleable__control sk-hidden--visually\" id=\"sk-estimator-id-3\" type=\"checkbox\" ><label for=\"sk-estimator-id-3\" class=\"sk-toggleable__label sk-toggleable__label-arrow\">estimator: RandomForestClassifier</label><div class=\"sk-toggleable__content\"><pre>RandomForestClassifier()</pre></div></div></div><div class=\"sk-serial\"><div class=\"sk-item\"><div class=\"sk-estimator sk-toggleable\"><input class=\"sk-toggleable__control sk-hidden--visually\" id=\"sk-estimator-id-4\" type=\"checkbox\" ><label for=\"sk-estimator-id-4\" class=\"sk-toggleable__label sk-toggleable__label-arrow\">RandomForestClassifier</label><div class=\"sk-toggleable__content\"><pre>RandomForestClassifier()</pre></div></div></div></div></div></div></div></div></div></div>"
      ],
      "text/plain": [
       "GridSearchCV(cv=5, estimator=RandomForestClassifier(), n_jobs=8,\n",
       "             param_grid={'criterion': ['gini'], 'max_depth': [740],\n",
       "                         'max_features': ['sqrt'],\n",
       "                         'min_samples_leaf': [1, 3, 5],\n",
       "                         'min_samples_split': [12, 13, 14, 15, 16],\n",
       "                         'n_estimators': [1710, 1810, 1910, 2010, 2110]},\n",
       "             verbose=2)"
      ]
     },
     "execution_count": 30,
     "metadata": {},
     "output_type": "execute_result"
    },
    {
     "data": {
      "application/javascript": [
       "$(document).ready(\n",
       "    function() {\n",
       "        function appendUniqueDiv(){\n",
       "            // append a div with our uuid so we can check that it's already\n",
       "            // been sent and avoid duplicates on page reload\n",
       "            var notifiedDiv = document.createElement(\"div\")\n",
       "            notifiedDiv.id = \"fcf0757b-4622-4c8f-9a31-92bd005b3636\"\n",
       "            element.append(notifiedDiv)\n",
       "        }\n",
       "\n",
       "        // only send notifications if the pageload is complete; this will\n",
       "        // help stop extra notifications when a saved notebook is loaded,\n",
       "        // which during testing gives us state \"interactive\", not \"complete\"\n",
       "        if (document.readyState === 'complete') {\n",
       "            // check for the div that signifies that the notification\n",
       "            // was already sent\n",
       "            if (document.getElementById(\"fcf0757b-4622-4c8f-9a31-92bd005b3636\") === null) {\n",
       "                var notificationPayload = {\"requireInteraction\": false, \"icon\": \"/static/base/images/favicon.ico\", \"body\": \"Cell execution has finished!\"};\n",
       "                if (Notification.permission !== 'denied') {\n",
       "                    if (Notification.permission !== 'granted') { \n",
       "                        Notification.requestPermission(function (permission) {\n",
       "                            if(!('permission' in Notification)) {\n",
       "                                Notification.permission = permission\n",
       "                            }\n",
       "                        })\n",
       "                    }\n",
       "                    if (Notification.permission === 'granted') {\n",
       "                    var notification = new Notification(\"Jupyter Notebook\", notificationPayload)\n",
       "                    appendUniqueDiv()\n",
       "                    notification.onclick = function () {\n",
       "                        window.focus();\n",
       "                        this.close();\n",
       "                        };\n",
       "                    } \n",
       "                }     \n",
       "            }\n",
       "        }\n",
       "    }\n",
       ")\n"
      ],
      "text/plain": [
       "<IPython.core.display.Javascript object>"
      ]
     },
     "metadata": {},
     "output_type": "display_data"
    }
   ],
   "source": [
    "%%notify\n",
    "rfc = RandomForestClassifier()\n",
    "gs = GridSearchCV(rfc, param_grid, cv=5, n_jobs=8, verbose=2)\n",
    "gs.fit(X_train, y_train)"
   ]
  },
  {
   "cell_type": "code",
   "execution_count": 31,
   "id": "fb229d9f",
   "metadata": {},
   "outputs": [],
   "source": [
    "rfc_gs = gs.best_estimator_"
   ]
  },
  {
   "cell_type": "code",
   "execution_count": 33,
   "id": "37ea1ec8",
   "metadata": {},
   "outputs": [
    {
     "data": {
      "text/plain": [
       "{'criterion': 'gini',\n",
       " 'max_depth': 740,\n",
       " 'max_features': 'sqrt',\n",
       " 'min_samples_leaf': 1,\n",
       " 'min_samples_split': 15,\n",
       " 'n_estimators': 1810}"
      ]
     },
     "execution_count": 33,
     "metadata": {},
     "output_type": "execute_result"
    }
   ],
   "source": [
    "gs.best_params_"
   ]
  },
  {
   "cell_type": "markdown",
   "id": "b6348f92",
   "metadata": {},
   "source": [
    "Let us test the hyperparameters obtained from `GridSearchCV`."
   ]
  },
  {
   "cell_type": "code",
   "execution_count": 30,
   "id": "5a0ce965",
   "metadata": {},
   "outputs": [],
   "source": [
    "rfc = RandomForestClassifier(n_estimators=1810,\n",
    "                             max_features='sqrt',\n",
    "                             max_depth=740,\n",
    "                             min_samples_split=15,\n",
    "                             min_samples_leaf=1,\n",
    "                             criterion='gini',\n",
    "                             n_jobs=-1)"
   ]
  },
  {
   "cell_type": "code",
   "execution_count": 33,
   "id": "a47dafa7",
   "metadata": {},
   "outputs": [
    {
     "data": {
      "text/html": [
       "<style>#sk-container-id-2 {color: black;background-color: white;}#sk-container-id-2 pre{padding: 0;}#sk-container-id-2 div.sk-toggleable {background-color: white;}#sk-container-id-2 label.sk-toggleable__label {cursor: pointer;display: block;width: 100%;margin-bottom: 0;padding: 0.3em;box-sizing: border-box;text-align: center;}#sk-container-id-2 label.sk-toggleable__label-arrow:before {content: \"▸\";float: left;margin-right: 0.25em;color: #696969;}#sk-container-id-2 label.sk-toggleable__label-arrow:hover:before {color: black;}#sk-container-id-2 div.sk-estimator:hover label.sk-toggleable__label-arrow:before {color: black;}#sk-container-id-2 div.sk-toggleable__content {max-height: 0;max-width: 0;overflow: hidden;text-align: left;background-color: #f0f8ff;}#sk-container-id-2 div.sk-toggleable__content pre {margin: 0.2em;color: black;border-radius: 0.25em;background-color: #f0f8ff;}#sk-container-id-2 input.sk-toggleable__control:checked~div.sk-toggleable__content {max-height: 200px;max-width: 100%;overflow: auto;}#sk-container-id-2 input.sk-toggleable__control:checked~label.sk-toggleable__label-arrow:before {content: \"▾\";}#sk-container-id-2 div.sk-estimator input.sk-toggleable__control:checked~label.sk-toggleable__label {background-color: #d4ebff;}#sk-container-id-2 div.sk-label input.sk-toggleable__control:checked~label.sk-toggleable__label {background-color: #d4ebff;}#sk-container-id-2 input.sk-hidden--visually {border: 0;clip: rect(1px 1px 1px 1px);clip: rect(1px, 1px, 1px, 1px);height: 1px;margin: -1px;overflow: hidden;padding: 0;position: absolute;width: 1px;}#sk-container-id-2 div.sk-estimator {font-family: monospace;background-color: #f0f8ff;border: 1px dotted black;border-radius: 0.25em;box-sizing: border-box;margin-bottom: 0.5em;}#sk-container-id-2 div.sk-estimator:hover {background-color: #d4ebff;}#sk-container-id-2 div.sk-parallel-item::after {content: \"\";width: 100%;border-bottom: 1px solid gray;flex-grow: 1;}#sk-container-id-2 div.sk-label:hover label.sk-toggleable__label {background-color: #d4ebff;}#sk-container-id-2 div.sk-serial::before {content: \"\";position: absolute;border-left: 1px solid gray;box-sizing: border-box;top: 0;bottom: 0;left: 50%;z-index: 0;}#sk-container-id-2 div.sk-serial {display: flex;flex-direction: column;align-items: center;background-color: white;padding-right: 0.2em;padding-left: 0.2em;position: relative;}#sk-container-id-2 div.sk-item {position: relative;z-index: 1;}#sk-container-id-2 div.sk-parallel {display: flex;align-items: stretch;justify-content: center;background-color: white;position: relative;}#sk-container-id-2 div.sk-item::before, #sk-container-id-2 div.sk-parallel-item::before {content: \"\";position: absolute;border-left: 1px solid gray;box-sizing: border-box;top: 0;bottom: 0;left: 50%;z-index: -1;}#sk-container-id-2 div.sk-parallel-item {display: flex;flex-direction: column;z-index: 1;position: relative;background-color: white;}#sk-container-id-2 div.sk-parallel-item:first-child::after {align-self: flex-end;width: 50%;}#sk-container-id-2 div.sk-parallel-item:last-child::after {align-self: flex-start;width: 50%;}#sk-container-id-2 div.sk-parallel-item:only-child::after {width: 0;}#sk-container-id-2 div.sk-dashed-wrapped {border: 1px dashed gray;margin: 0 0.4em 0.5em 0.4em;box-sizing: border-box;padding-bottom: 0.4em;background-color: white;}#sk-container-id-2 div.sk-label label {font-family: monospace;font-weight: bold;display: inline-block;line-height: 1.2em;}#sk-container-id-2 div.sk-label-container {text-align: center;}#sk-container-id-2 div.sk-container {/* jupyter's `normalize.less` sets `[hidden] { display: none; }` but bootstrap.min.css set `[hidden] { display: none !important; }` so we also need the `!important` here to be able to override the default hidden behavior on the sphinx rendered scikit-learn.org. See: https://github.com/scikit-learn/scikit-learn/issues/21755 */display: inline-block !important;position: relative;}#sk-container-id-2 div.sk-text-repr-fallback {display: none;}</style><div id=\"sk-container-id-2\" class=\"sk-top-container\"><div class=\"sk-text-repr-fallback\"><pre>RandomForestClassifier(max_depth=740, min_samples_split=15, n_estimators=1810,\n",
       "                       n_jobs=-1)</pre><b>In a Jupyter environment, please rerun this cell to show the HTML representation or trust the notebook. <br />On GitHub, the HTML representation is unable to render, please try loading this page with nbviewer.org.</b></div><div class=\"sk-container\" hidden><div class=\"sk-item\"><div class=\"sk-estimator sk-toggleable\"><input class=\"sk-toggleable__control sk-hidden--visually\" id=\"sk-estimator-id-2\" type=\"checkbox\" checked><label for=\"sk-estimator-id-2\" class=\"sk-toggleable__label sk-toggleable__label-arrow\">RandomForestClassifier</label><div class=\"sk-toggleable__content\"><pre>RandomForestClassifier(max_depth=740, min_samples_split=15, n_estimators=1810,\n",
       "                       n_jobs=-1)</pre></div></div></div></div></div>"
      ],
      "text/plain": [
       "RandomForestClassifier(max_depth=740, min_samples_split=15, n_estimators=1810,\n",
       "                       n_jobs=-1)"
      ]
     },
     "execution_count": 33,
     "metadata": {},
     "output_type": "execute_result"
    }
   ],
   "source": [
    "rfc.fit(X_train, y_train)"
   ]
  },
  {
   "cell_type": "code",
   "execution_count": 34,
   "id": "62b68105",
   "metadata": {},
   "outputs": [
    {
     "data": {
      "text/plain": [
       "0.7243916242218449"
      ]
     },
     "execution_count": 34,
     "metadata": {},
     "output_type": "execute_result"
    }
   ],
   "source": [
    "rfc.score(X_test, y_test)"
   ]
  },
  {
   "cell_type": "markdown",
   "id": "c98451b5",
   "metadata": {},
   "source": [
    "It seems the tuning resulted in an increase of `0.0011318619128465` in accuracy. Not a lot, but we'll go for it."
   ]
  },
  {
   "cell_type": "markdown",
   "id": "c394c84c",
   "metadata": {},
   "source": [
    "So for now we will stick with the `GridSearchCV` tuned model."
   ]
  },
  {
   "cell_type": "markdown",
   "id": "b34463ec",
   "metadata": {},
   "source": [
    "## Step 5: Evaluating a classification model, beyond accuracy\n",
    "\n",
    "Now we've got a tuned model, let's get some of the metrics we discussed before.\n",
    "\n",
    "We want:\n",
    "* Confusion matrix - [`confusion_matrix()`](https://scikit-learn.org/stable/modules/generated/sklearn.metrics.confusion_matrix.html)\n",
    "* Classification report - [`classification_report()`](https://scikit-learn.org/stable/modules/generated/sklearn.metrics.classification_report.html)\n",
    "* Precision - [`precision_score()`](https://scikit-learn.org/stable/modules/generated/sklearn.metrics.precision_score.html)\n",
    "* Recall - [`recall_score()`](https://scikit-learn.org/stable/modules/generated/sklearn.metrics.recall_score.html)\n",
    "* F1-score - [`f1_score()`](https://scikit-learn.org/stable/modules/generated/sklearn.metrics.f1_score.html)\n",
    "\n",
    "Luckily, Scikit-Learn has these all built-in.\n",
    "\n",
    "To access them, we'll have to use our model to make predictions on the test set. You can make predictions by calling `predict()` on a trained model and passing it the data you'd like to predict on.\n",
    "\n",
    "We'll make predictions on the test data."
   ]
  },
  {
   "cell_type": "code",
   "execution_count": 39,
   "id": "f55a9ef6",
   "metadata": {},
   "outputs": [],
   "source": [
    "rfc = RandomForestClassifier(n_estimators=1810,\n",
    "                             max_features='sqrt',\n",
    "                             max_depth=740,\n",
    "                             min_samples_split=15,\n",
    "                             min_samples_leaf=1,\n",
    "                             criterion='gini',\n",
    "                             n_jobs=-1)"
   ]
  },
  {
   "cell_type": "code",
   "execution_count": 40,
   "id": "0976113a",
   "metadata": {},
   "outputs": [
    {
     "data": {
      "text/html": [
       "<style>#sk-container-id-4 {color: black;background-color: white;}#sk-container-id-4 pre{padding: 0;}#sk-container-id-4 div.sk-toggleable {background-color: white;}#sk-container-id-4 label.sk-toggleable__label {cursor: pointer;display: block;width: 100%;margin-bottom: 0;padding: 0.3em;box-sizing: border-box;text-align: center;}#sk-container-id-4 label.sk-toggleable__label-arrow:before {content: \"▸\";float: left;margin-right: 0.25em;color: #696969;}#sk-container-id-4 label.sk-toggleable__label-arrow:hover:before {color: black;}#sk-container-id-4 div.sk-estimator:hover label.sk-toggleable__label-arrow:before {color: black;}#sk-container-id-4 div.sk-toggleable__content {max-height: 0;max-width: 0;overflow: hidden;text-align: left;background-color: #f0f8ff;}#sk-container-id-4 div.sk-toggleable__content pre {margin: 0.2em;color: black;border-radius: 0.25em;background-color: #f0f8ff;}#sk-container-id-4 input.sk-toggleable__control:checked~div.sk-toggleable__content {max-height: 200px;max-width: 100%;overflow: auto;}#sk-container-id-4 input.sk-toggleable__control:checked~label.sk-toggleable__label-arrow:before {content: \"▾\";}#sk-container-id-4 div.sk-estimator input.sk-toggleable__control:checked~label.sk-toggleable__label {background-color: #d4ebff;}#sk-container-id-4 div.sk-label input.sk-toggleable__control:checked~label.sk-toggleable__label {background-color: #d4ebff;}#sk-container-id-4 input.sk-hidden--visually {border: 0;clip: rect(1px 1px 1px 1px);clip: rect(1px, 1px, 1px, 1px);height: 1px;margin: -1px;overflow: hidden;padding: 0;position: absolute;width: 1px;}#sk-container-id-4 div.sk-estimator {font-family: monospace;background-color: #f0f8ff;border: 1px dotted black;border-radius: 0.25em;box-sizing: border-box;margin-bottom: 0.5em;}#sk-container-id-4 div.sk-estimator:hover {background-color: #d4ebff;}#sk-container-id-4 div.sk-parallel-item::after {content: \"\";width: 100%;border-bottom: 1px solid gray;flex-grow: 1;}#sk-container-id-4 div.sk-label:hover label.sk-toggleable__label {background-color: #d4ebff;}#sk-container-id-4 div.sk-serial::before {content: \"\";position: absolute;border-left: 1px solid gray;box-sizing: border-box;top: 0;bottom: 0;left: 50%;z-index: 0;}#sk-container-id-4 div.sk-serial {display: flex;flex-direction: column;align-items: center;background-color: white;padding-right: 0.2em;padding-left: 0.2em;position: relative;}#sk-container-id-4 div.sk-item {position: relative;z-index: 1;}#sk-container-id-4 div.sk-parallel {display: flex;align-items: stretch;justify-content: center;background-color: white;position: relative;}#sk-container-id-4 div.sk-item::before, #sk-container-id-4 div.sk-parallel-item::before {content: \"\";position: absolute;border-left: 1px solid gray;box-sizing: border-box;top: 0;bottom: 0;left: 50%;z-index: -1;}#sk-container-id-4 div.sk-parallel-item {display: flex;flex-direction: column;z-index: 1;position: relative;background-color: white;}#sk-container-id-4 div.sk-parallel-item:first-child::after {align-self: flex-end;width: 50%;}#sk-container-id-4 div.sk-parallel-item:last-child::after {align-self: flex-start;width: 50%;}#sk-container-id-4 div.sk-parallel-item:only-child::after {width: 0;}#sk-container-id-4 div.sk-dashed-wrapped {border: 1px dashed gray;margin: 0 0.4em 0.5em 0.4em;box-sizing: border-box;padding-bottom: 0.4em;background-color: white;}#sk-container-id-4 div.sk-label label {font-family: monospace;font-weight: bold;display: inline-block;line-height: 1.2em;}#sk-container-id-4 div.sk-label-container {text-align: center;}#sk-container-id-4 div.sk-container {/* jupyter's `normalize.less` sets `[hidden] { display: none; }` but bootstrap.min.css set `[hidden] { display: none !important; }` so we also need the `!important` here to be able to override the default hidden behavior on the sphinx rendered scikit-learn.org. See: https://github.com/scikit-learn/scikit-learn/issues/21755 */display: inline-block !important;position: relative;}#sk-container-id-4 div.sk-text-repr-fallback {display: none;}</style><div id=\"sk-container-id-4\" class=\"sk-top-container\"><div class=\"sk-text-repr-fallback\"><pre>RandomForestClassifier(max_depth=740, min_samples_split=15, n_estimators=1810,\n",
       "                       n_jobs=-1)</pre><b>In a Jupyter environment, please rerun this cell to show the HTML representation or trust the notebook. <br />On GitHub, the HTML representation is unable to render, please try loading this page with nbviewer.org.</b></div><div class=\"sk-container\" hidden><div class=\"sk-item\"><div class=\"sk-estimator sk-toggleable\"><input class=\"sk-toggleable__control sk-hidden--visually\" id=\"sk-estimator-id-4\" type=\"checkbox\" checked><label for=\"sk-estimator-id-4\" class=\"sk-toggleable__label sk-toggleable__label-arrow\">RandomForestClassifier</label><div class=\"sk-toggleable__content\"><pre>RandomForestClassifier(max_depth=740, min_samples_split=15, n_estimators=1810,\n",
       "                       n_jobs=-1)</pre></div></div></div></div></div>"
      ],
      "text/plain": [
       "RandomForestClassifier(max_depth=740, min_samples_split=15, n_estimators=1810,\n",
       "                       n_jobs=-1)"
      ]
     },
     "execution_count": 40,
     "metadata": {},
     "output_type": "execute_result"
    }
   ],
   "source": [
    "rfc.fit(X_train, y_train)"
   ]
  },
  {
   "cell_type": "code",
   "execution_count": 41,
   "id": "909e6c39",
   "metadata": {},
   "outputs": [
    {
     "data": {
      "text/plain": [
       "array(['neutral', 'positive', 'negative', ..., 'negative', 'positive',\n",
       "       'positive'], dtype=object)"
      ]
     },
     "execution_count": 41,
     "metadata": {},
     "output_type": "execute_result"
    }
   ],
   "source": [
    "# Make preidctions on test data\n",
    "y_preds = rfc.predict(X_test)\n",
    "y_preds"
   ]
  },
  {
   "cell_type": "markdown",
   "id": "552f36c1",
   "metadata": {},
   "source": [
    "They look like our original test data labels, except different where the model has predicted wrong."
   ]
  },
  {
   "cell_type": "code",
   "execution_count": 42,
   "id": "b1cc7b8c",
   "metadata": {},
   "outputs": [
    {
     "data": {
      "text/plain": [
       "0        neutral\n",
       "1       positive\n",
       "2       negative\n",
       "3       positive\n",
       "4       positive\n",
       "          ...   \n",
       "3529    negative\n",
       "3530    positive\n",
       "3531    negative\n",
       "3532    positive\n",
       "3533    positive\n",
       "Name: sentiment, Length: 3534, dtype: object"
      ]
     },
     "execution_count": 42,
     "metadata": {},
     "output_type": "execute_result"
    }
   ],
   "source": [
    "y_test"
   ]
  },
  {
   "cell_type": "markdown",
   "id": "611b7fc2",
   "metadata": {},
   "source": [
    "Since we've got our prediction values we can find the metrics we want.\n",
    "\n",
    "Let's start with the Confusion Matrix.\n",
    "\n",
    "### Confusion matrix \n",
    "\n",
    "A confusion matrix is a visual way to show where your model made the right predictions and where it made the wrong predictions (or in other words, got confused).\n",
    "\n",
    "Scikit-Learn allows us to create a confusion matrix using [`confusion_matrix()`](https://scikit-learn.org/stable/modules/generated/sklearn.metrics.confusion_matrix.html) and passing it the true labels and predicted labels."
   ]
  },
  {
   "cell_type": "code",
   "execution_count": 44,
   "id": "3debe67e",
   "metadata": {},
   "outputs": [
    {
     "name": "stdout",
     "output_type": "stream",
     "text": [
      "[[ 665  266   70]\n",
      " [ 201 1029  200]\n",
      " [  34  211  858]]\n"
     ]
    }
   ],
   "source": [
    "# Display confusion matrix\n",
    "print(confusion_matrix(y_test, y_preds))"
   ]
  },
  {
   "cell_type": "markdown",
   "id": "88050135",
   "metadata": {},
   "source": [
    "As you can see, Scikit-Learn's built-in confusion matrix is a bit bland. For a presentation you'd probably want to make it visual.\n",
    "\n",
    "Let's create a function which uses Seaborn's [`heatmap()`](https://seaborn.pydata.org/generated/seaborn.heatmap.html) for doing so."
   ]
  },
  {
   "cell_type": "code",
   "execution_count": 47,
   "id": "bc7c0804",
   "metadata": {},
   "outputs": [
    {
     "data": {
      "image/png": "[encoded data removed]",
      "text/plain": [
       "<Figure size 300x300 with 1 Axes>"
      ]
     },
     "metadata": {},
     "output_type": "display_data"
    }
   ],
   "source": [
    "# Import Seaborn\n",
    "import seaborn as sns\n",
    "sns.set(font_scale=1.5) # Increase font size\n",
    "\n",
    "def plot_conf_mat(y_test, y_preds):\n",
    "    \"\"\"\n",
    "    Plots a confusion matrix using Seaborn's heatmap().\n",
    "    \"\"\"\n",
    "    fig, ax = plt.subplots(figsize=(3, 3))\n",
    "    ax = sns.heatmap(confusion_matrix(y_test, y_preds),\n",
    "                     annot=True, # Annotate the boxes\n",
    "                     cbar=False)\n",
    "    plt.xlabel(\"true label\")\n",
    "    plt.ylabel(\"predicted label\")\n",
    "    \n",
    "plot_conf_mat(y_test, y_preds)"
   ]
  },
  {
   "cell_type": "markdown",
   "id": "543a426c",
   "metadata": {},
   "source": [
    "Beautiful! That looks much better. "
   ]
  },
  {
   "cell_type": "markdown",
   "id": "188b221c",
   "metadata": {},
   "source": [
    "### Classification report\n",
    "\n",
    "We can make a classification report using [`classification_report()`](https://scikit-learn.org/stable/modules/generated/sklearn.metrics.classification_report.html) and passing it the true labels as well as our models predicted labels. \n",
    "\n",
    "A classification report will also give us information of the precision and recall of our model for each class."
   ]
  },
  {
   "cell_type": "code",
   "execution_count": 49,
   "id": "27c00e0c",
   "metadata": {},
   "outputs": [],
   "source": [
    "from sklearn.metrics import classification_report"
   ]
  },
  {
   "cell_type": "code",
   "execution_count": 50,
   "id": "dba0442c",
   "metadata": {},
   "outputs": [
    {
     "name": "stdout",
     "output_type": "stream",
     "text": [
      "              precision    recall  f1-score   support\n",
      "\n",
      "    negative       0.74      0.66      0.70      1001\n",
      "     neutral       0.68      0.72      0.70      1430\n",
      "    positive       0.76      0.78      0.77      1103\n",
      "\n",
      "    accuracy                           0.72      3534\n",
      "   macro avg       0.73      0.72      0.72      3534\n",
      "weighted avg       0.72      0.72      0.72      3534\n",
      "\n"
     ]
    }
   ],
   "source": [
    "# Show classification report\n",
    "print(classification_report(y_test, y_preds))"
   ]
  },
  {
   "cell_type": "markdown",
   "id": "38e676cd",
   "metadata": {},
   "source": [
    "Ok, now we've got a few deeper insights on our model. But these were all calculated using a single training and test set.\n",
    "\n",
    "What we'll do to make them more solid is calculate them using cross-validation.\n",
    "\n",
    "How?\n",
    "\n",
    "We'll take the best model along with the best hyperparameters and use [`cross_val_score()`](https://scikit-learn.org/stable/modules/generated/sklearn.model_selection.cross_val_score.html) along with various `scoring` parameter values.\n",
    "\n",
    "`cross_val_score()` works by taking an estimator (machine learning model) along with data and labels. It then evaluates the machine learning model on the data and labels using cross-validation and a defined `scoring` parameter."
   ]
  },
  {
   "cell_type": "code",
   "execution_count": 51,
   "id": "9eeaa399",
   "metadata": {},
   "outputs": [],
   "source": [
    "# Import cross_val_score\n",
    "from sklearn.model_selection import cross_val_score"
   ]
  },
  {
   "cell_type": "markdown",
   "id": "f5817237",
   "metadata": {},
   "source": [
    "Now we've already got an instantiated classifier, let's find some cross-validated metrics."
   ]
  },
  {
   "cell_type": "code",
   "execution_count": 54,
   "id": "47834308",
   "metadata": {},
   "outputs": [
    {
     "data": {
      "text/plain": [
       "array([0.70924309, 0.71306405, 0.72016012, 0.70705968, 0.72052402])"
      ]
     },
     "execution_count": 54,
     "metadata": {},
     "output_type": "execute_result"
    }
   ],
   "source": [
    "# Cross-validated accuracy score\n",
    "cv_acc = cross_val_score(rfc,\n",
    "                         X_train,\n",
    "                         y_train,\n",
    "                         cv=5, # 5-fold cross-validation\n",
    "                         scoring=\"accuracy\") # accuracy as scoring\n",
    "cv_acc"
   ]
  },
  {
   "cell_type": "markdown",
   "id": "2c719168",
   "metadata": {},
   "source": [
    "Since there are 5 metrics here, we'll take the average."
   ]
  },
  {
   "cell_type": "code",
   "execution_count": 55,
   "id": "980dbc21",
   "metadata": {},
   "outputs": [
    {
     "data": {
      "text/plain": [
       "0.71401018922853"
      ]
     },
     "execution_count": 55,
     "metadata": {},
     "output_type": "execute_result"
    }
   ],
   "source": [
    "cv_acc = np.mean(cv_acc)\n",
    "cv_acc"
   ]
  },
  {
   "cell_type": "markdown",
   "id": "631f86d4",
   "metadata": {},
   "source": [
    "Now we'll do the same for other classification metrics."
   ]
  },
  {
   "cell_type": "code",
   "execution_count": 59,
   "id": "3a583eb0",
   "metadata": {},
   "outputs": [
    {
     "data": {
      "text/plain": [
       "0.7210606608581174"
      ]
     },
     "execution_count": 59,
     "metadata": {},
     "output_type": "execute_result"
    }
   ],
   "source": [
    "# Cross-validated precision score\n",
    "cv_precision = np.mean(cross_val_score(rfc,\n",
    "                                       X_train,\n",
    "                                       y_train,\n",
    "                                       cv=5, # 5-fold cross-validation\n",
    "                                       scoring=\"precision_macro\")) # precision as scoring\n",
    "cv_precision"
   ]
  },
  {
   "cell_type": "code",
   "execution_count": 60,
   "id": "257d989e",
   "metadata": {},
   "outputs": [
    {
     "data": {
      "text/plain": [
       "0.7099888783528091"
      ]
     },
     "execution_count": 60,
     "metadata": {},
     "output_type": "execute_result"
    }
   ],
   "source": [
    "# Cross-validated recall score\n",
    "cv_recall = np.mean(cross_val_score(rfc,\n",
    "                                    X_train,\n",
    "                                    y_train,\n",
    "                                    cv=5, # 5-fold cross-validation\n",
    "                                    scoring=\"recall_macro\",\n",
    "                                    n_jobs=-1)) # recall as scoring\n",
    "cv_recall"
   ]
  },
  {
   "cell_type": "code",
   "execution_count": 61,
   "id": "fd6bf75b",
   "metadata": {},
   "outputs": [
    {
     "data": {
      "text/plain": [
       "0.7133143072276928"
      ]
     },
     "execution_count": 61,
     "metadata": {},
     "output_type": "execute_result"
    }
   ],
   "source": [
    "# Cross-validated F1 score\n",
    "cv_f1 = np.mean(cross_val_score(rfc,\n",
    "                                X_train,\n",
    "                                y_train,\n",
    "                                cv=5, # 5-fold cross-validation\n",
    "                                scoring=\"f1_macro\",\n",
    "                                n_jobs=-1)) # f1 as scoring\n",
    "cv_f1"
   ]
  },
  {
   "cell_type": "markdown",
   "id": "88f497a9",
   "metadata": {},
   "source": [
    "Okay, we've got cross validated metrics, now what?\n",
    "\n",
    "Let's visualize them."
   ]
  },
  {
   "cell_type": "code",
   "execution_count": 62,
   "id": "96703361",
   "metadata": {},
   "outputs": [
    {
     "data": {
      "image/png": "[encoded data removed]",
      "text/plain": [
       "<Figure size 640x480 with 1 Axes>"
      ]
     },
     "metadata": {},
     "output_type": "display_data"
    }
   ],
   "source": [
    "# Visualizing cross-validated metrics\n",
    "cv_metrics = pd.DataFrame({\"Accuracy\": cv_acc,\n",
    "                            \"Precision\": cv_precision,\n",
    "                            \"Recall\": cv_recall,\n",
    "                            \"F1\": cv_f1},\n",
    "                          index=[0])\n",
    "cv_metrics.T.plot.bar(title=\"Cross-Validated Metrics\", legend=False);"
   ]
  },
  {
   "cell_type": "markdown",
   "id": "4e95b760",
   "metadata": {},
   "source": [
    "Great! This looks like something we could share. An extension might be adding the metrics on top of each bar so someone can quickly tell what they were."
   ]
  },
  {
   "cell_type": "markdown",
   "id": "60dd7728",
   "metadata": {},
   "source": [
    "## Saving the Model and Transformer\n",
    "\n",
    "Let's save the model we just created for future use."
   ]
  },
  {
   "cell_type": "code",
   "execution_count": 34,
   "id": "863c20f7",
   "metadata": {},
   "outputs": [],
   "source": [
    "import joblib"
   ]
  },
  {
   "cell_type": "code",
   "execution_count": 30,
   "id": "ba11878e",
   "metadata": {},
   "outputs": [
    {
     "data": {
      "text/plain": [
       "['models/model_v1.pkl']"
      ]
     },
     "execution_count": 30,
     "metadata": {},
     "output_type": "execute_result"
    }
   ],
   "source": [
    "joblib.dump(rfc, 'models/model_v1.pkl', compress=3)"
   ]
  },
  {
   "cell_type": "code",
   "execution_count": 35,
   "id": "89dc4f74",
   "metadata": {},
   "outputs": [
    {
     "data": {
      "text/plain": [
       "['models/transformer_v2.pkl']"
      ]
     },
     "execution_count": 35,
     "metadata": {},
     "output_type": "execute_result"
    }
   ],
   "source": [
    "joblib.dump(tv, 'models/transformer_v1.pkl')"
   ]
  }
 ],
 "metadata": {
  "kernelspec": {
   "display_name": "Python 3 (ipykernel)",
   "language": "python",
   "name": "python3"
  },
  "language_info": {
   "codemirror_mode": {
    "name": "ipython",
    "version": 3
   },
   "file_extension": ".py",
   "mimetype": "text/x-python",
   "name": "python",
   "nbconvert_exporter": "python",
   "pygments_lexer": "ipython3",
   "version": "3.10.7"
  }
 },
 "nbformat": 4,
 "nbformat_minor": 5
}
